{
 "cells": [
  {
   "cell_type": "code",
   "execution_count": 4,
   "metadata": {},
   "outputs": [
    {
     "name": "stdout",
     "output_type": "stream",
     "text": [
      " my car Porche of a model 2025 is ausom\n"
     ]
    }
   ],
   "source": [
    "# access Modifiers; Public, Private, protected\n",
    "\n",
    "class Car:\n",
    "    # Parameterized constructor\n",
    "    def __init__(self, brand, model):\n",
    "        self.brand = brand\n",
    "        self.model = model\n",
    "    def starting(self):\n",
    "        print(f\" my car {self.brand} of a model {self.model} is ausom\")\n",
    "    \n",
    "# Creating an Object\n",
    "my_car= Car(\"Porche\", \"2025\")\n",
    "my_car.starting()\n"
   ]
  }
 ],
 "metadata": {
  "kernelspec": {
   "display_name": "Python 3",
   "language": "python",
   "name": "python3"
  },
  "language_info": {
   "codemirror_mode": {
    "name": "ipython",
    "version": 3
   },
   "file_extension": ".py",
   "mimetype": "text/x-python",
   "name": "python",
   "nbconvert_exporter": "python",
   "pygments_lexer": "ipython3",
   "version": "3.12.8"
  }
 },
 "nbformat": 4,
 "nbformat_minor": 2
}
