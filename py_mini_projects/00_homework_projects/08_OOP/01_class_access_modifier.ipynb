{
 "cells": [
  {
   "cell_type": "code",
   "execution_count": 4,
   "metadata": {},
   "outputs": [
    {
     "name": "stdout",
     "output_type": "stream",
     "text": [
      " my car Porche of a model 2025 is ausom\n"
     ]
    }
   ],
   "source": [
    "# access Modifiers; Public, Private, protected\n",
    "\n",
    "class Car:\n",
    "    # Parameterized constructor\n",
    "    def __init__(self, brand, model):\n",
    "        self.brand = brand\n",
    "        self.model = model\n",
    "    def starting(self):\n",
    "        print(f\" my car {self.brand} of a model {self.model} is ausom\")\n",
    "    \n",
    "# Creating an Object\n",
    "my_car= Car(\"Porche\", \"2025\")\n",
    "my_car.starting()\n"
   ]
  },
  {
   "cell_type": "code",
   "execution_count": 5,
   "metadata": {},
   "outputs": [
    {
     "data": {
      "text/plain": [
       "'The gold is hidden at: Undre the old oak tree'"
      ]
     },
     "execution_count": 5,
     "metadata": {},
     "output_type": "execute_result"
    }
   ],
   "source": [
    "# Protected\n",
    "class Father:\n",
    "    def __init__(self):\n",
    "        self._secret_location = \"Undre the old oak tree\"\n",
    "    def _where_i_hide_the_gold(self):\n",
    "        return f\"The gold is hidden at: {self._secret_location}\"\n",
    "\n",
    "# The sneaky but trusted son\n",
    "\n",
    "class Son(Father):  # Inheritence   \n",
    "    pass\n",
    "\n",
    "son = Son()\n",
    "son._where_i_hide_the_gold()# accessing protecte method from the parent"
   ]
  },
  {
   "cell_type": "code",
   "execution_count": null,
   "metadata": {},
   "outputs": [],
   "source": [
    "# private\n",
    "class Employee:\n",
    "    def __init__(self,name, salary):\n",
    "        self.name = name\n",
    "        self.__salary = salary # private attribute\n",
    "    \n",
    "    def show_salary(self)"
   ]
  }
 ],
 "metadata": {
  "kernelspec": {
   "display_name": "Python 3",
   "language": "python",
   "name": "python3"
  },
  "language_info": {
   "codemirror_mode": {
    "name": "ipython",
    "version": 3
   },
   "file_extension": ".py",
   "mimetype": "text/x-python",
   "name": "python",
   "nbconvert_exporter": "python",
   "pygments_lexer": "ipython3",
   "version": "3.12.8"
  }
 },
 "nbformat": 4,
 "nbformat_minor": 2
}
