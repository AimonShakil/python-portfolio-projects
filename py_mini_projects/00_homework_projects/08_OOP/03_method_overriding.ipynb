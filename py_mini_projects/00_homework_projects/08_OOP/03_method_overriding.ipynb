{
 "cells": [
  {
   "cell_type": "markdown",
   "metadata": {},
   "source": [
    "## Super Class & Method Overriding\n",
    "\n",
    "Method overriding occurs when a subclass provides a specific implementation of a method that is already defined in its superclass. The subclass method overrides the superclass method."
   ]
  },
  {
   "cell_type": "code",
   "execution_count": 2,
   "metadata": {},
   "outputs": [
    {
     "name": "stdout",
     "output_type": "stream",
     "text": [
      "Tommy says Woof\n"
     ]
    }
   ],
   "source": [
    "# Parent Class\n",
    "class Animal:\n",
    "    def __init__(self, name):\n",
    "        self.name = name\n",
    "    def speak(self):\n",
    "        return \"Animal Sound\"\n",
    "    \n",
    "# child class inherits from Animal\n",
    "class Dog(Animal):\n",
    "    def __init__(self, name):\n",
    "        super().__init__(name) # call the parent class constructor\n",
    "    def speak(self): # overriding the parent method speak()\n",
    "        return \"Woof\"\n",
    "    \n",
    "# craete an instance of Dog class\n",
    "dog = Dog(\"Tommy\")\n",
    "print(f\"{dog.name} says {dog.speak()}\")\n",
    "\n",
    "        "
   ]
  },
  {
   "cell_type": "markdown",
   "metadata": {},
   "source": [
    "## Polymorphism Example"
   ]
  },
  {
   "cell_type": "code",
   "execution_count": 3,
   "metadata": {},
   "outputs": [
    {
     "name": "stdout",
     "output_type": "stream",
     "text": [
      "Alpha says Woof\n"
     ]
    }
   ],
   "source": [
    "animal: Animal = Dog(\"Alpha\")\n",
    "print(f\"{animal.name} says {animal.speak()}\")"
   ]
  },
  {
   "cell_type": "markdown",
   "metadata": {},
   "source": [
    "## Multiple Inheritance"
   ]
  },
  {
   "cell_type": "code",
   "execution_count": 2,
   "metadata": {},
   "outputs": [
    {
     "name": "stdout",
     "output_type": "stream",
     "text": [
      "Flying high\n",
      "Swimming deep\n"
     ]
    }
   ],
   "source": [
    "# First Parent Class\n",
    "class Bird:\n",
    "    def fly(self):\n",
    "        return \"Flying high\"\n",
    "\n",
    "# second parent class\n",
    "class Fish:\n",
    "    def swim(self):\n",
    "        return \"Swimming deep\"\n",
    "    \n",
    "# A child class inhirits from both the Parents Bird and Fish\n",
    "\n",
    "class FlyingFish(Bird, Fish):\n",
    "    pass\n",
    "\n",
    "# creating an Instance of Flying fish Class\n",
    "flying_fish = FlyingFish()\n",
    "print(flying_fish.fly())\n",
    "print(flying_fish.swim())\n"
   ]
  },
  {
   "cell_type": "code",
   "execution_count": null,
   "metadata": {},
   "outputs": [],
   "source": [
    "class Point:\n",
    "    def __init__(self, x, y):\n",
    "        self.x = x    # Instance Variable\n",
    "        self.y = y    # instance Variable\n",
    "\n",
    "    # Overload the + operator\n",
    "    def __add__(self, other):\n",
    "        return Point(self.x + other.x, self.y + other.y)\n",
    "\n",
    "    # Overload the str() function for printing\n",
    "    def __str__(self):\n",
    "        return f\"Point({self.x}, {self.y})\"\n",
    "\n",
    "# Create instances of Point\n",
    "point_1 = Point(1, 2)\n",
    "point_2 = Point(3, 4)"
   ]
  }
 ],
 "metadata": {
  "kernelspec": {
   "display_name": "Python 3",
   "language": "python",
   "name": "python3"
  },
  "language_info": {
   "codemirror_mode": {
    "name": "ipython",
    "version": 3
   },
   "file_extension": ".py",
   "mimetype": "text/x-python",
   "name": "python",
   "nbconvert_exporter": "python",
   "pygments_lexer": "ipython3",
   "version": "3.12.8"
  }
 },
 "nbformat": 4,
 "nbformat_minor": 2
}
