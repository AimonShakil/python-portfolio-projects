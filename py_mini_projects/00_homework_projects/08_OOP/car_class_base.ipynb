{
 "cells": [
  {
   "cell_type": "markdown",
   "metadata": {},
   "source": [
    "A Car class implementing OOP Basic principle: Encapsulation, Inheritence, abstraction, Polymorphism"
   ]
  },
  {
   "cell_type": "code",
   "execution_count": null,
   "metadata": {},
   "outputs": [],
   "source": [
    "\n",
    "    "
   ]
  },
  {
   "cell_type": "code",
   "execution_count": null,
   "metadata": {},
   "outputs": [],
   "source": [
    "class Duck:\n",
    "    def speak(self):\n",
    "        return self.__repr__() + \"   : Quack!\"\n",
    "\n",
    "class Person:\n",
    "    def speak(self):\n",
    "        return self.__repr__() + \" : I can also quack like a duck!\"\n",
    "\n",
    "# Function to demonstrate duck typing\n",
    "def make_it_quack(duck):\n",
    "    print(duck.speak()) # type(thing),\": \", >>> instead of using type() method we used self.__repr__() to print the type of the object\n",
    "\n",
    "# Create instances of Duck and Person\n",
    "duck = Duck()\n",
    "person = Person()\n",
    "\n",
    "# Call the function with different objects\n",
    "make_it_quack(duck)    # Output: Quack!\n",
    "make_it_quack(person)  # Output: I can quack like a duck!\n",
    "     "
   ]
  }
 ],
 "metadata": {
  "language_info": {
   "name": "python"
  }
 },
 "nbformat": 4,
 "nbformat_minor": 2
}
