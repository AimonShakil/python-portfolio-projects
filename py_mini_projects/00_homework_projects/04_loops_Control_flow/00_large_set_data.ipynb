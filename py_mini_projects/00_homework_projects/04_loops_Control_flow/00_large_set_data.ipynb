{
 "cells": [
  {
   "cell_type": "markdown",
   "metadata": {},
   "source": [
    "### Find the largest number from a large set of entered data."
   ]
  },
  {
   "cell_type": "code",
   "execution_count": 1,
   "metadata": {},
   "outputs": [
    {
     "name": "stdout",
     "output_type": "stream",
     "text": [
      "The Largest number is:  9090966666666666666666666666666\n"
     ]
    }
   ],
   "source": [
    "# while loop\n",
    "largest_num = -999999999\n",
    "\n",
    "number: int = int(input(\"Enter a number or type -1 to stop: \"))\n",
    "\n",
    "# if number is not equal to -1 continue\n",
    "while number != -1:\n",
    "    if number > largest_num:\n",
    "        largest_num = number \n",
    "    # input the next number\n",
    "    number = int(input(\"enter a number or -1 to stop: \"))\n",
    "print(\"The Largest number is: \", largest_num)\n"
   ]
  }
 ],
 "metadata": {
  "kernelspec": {
   "display_name": "Python 3",
   "language": "python",
   "name": "python3"
  },
  "language_info": {
   "codemirror_mode": {
    "name": "ipython",
    "version": 3
   },
   "file_extension": ".py",
   "mimetype": "text/x-python",
   "name": "python",
   "nbconvert_exporter": "python",
   "pygments_lexer": "ipython3",
   "version": "3.12.8"
  }
 },
 "nbformat": 4,
 "nbformat_minor": 2
}
