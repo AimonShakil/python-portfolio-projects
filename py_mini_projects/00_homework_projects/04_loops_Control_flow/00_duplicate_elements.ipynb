{
 "cells": [
  {
   "cell_type": "markdown",
   "metadata": {},
   "source": [
    "Task is to write a program which removes all the number repetitions from the list. The goal is to have a list in which all the numbers appear not more than once."
   ]
  },
  {
   "cell_type": "code",
   "execution_count": null,
   "metadata": {},
   "outputs": [],
   "source": [
    "my_list = [1, 2, 4, 4, 1, 4, 2, 6, 2, 9]\n",
    "\n",
    "m_lst = my_list[:]\n",
    "new_lst = []\n",
    "\n",
    "for n in m_lst:\n",
    "    if n in my_list:\n",
    "        new_lst += n\n",
    "\n",
    "\n"
   ]
  }
 ],
 "metadata": {
  "language_info": {
   "name": "python"
  }
 },
 "nbformat": 4,
 "nbformat_minor": 2
}
