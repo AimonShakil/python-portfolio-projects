{
 "cells": [
  {
   "cell_type": "markdown",
   "metadata": {},
   "source": [
    "### Guess the secret number\n",
    "\n",
    "Scenario\n",
    "\n",
    "A junior magician has picked a secret number. He has hidden it in a variable named secret_number. He wants everyone who runs his program to play the Guess the secret number game, and guess what number he has picked for them. Those who don't guess the number will be stuck in an endless loop forever! Unfortunately, he does not know how to complete the code.\n",
    "\n",
    "Your task is to help the magician complete the code in the editor in such a way so that the code:\n",
    "\n",
    "will ask the user to enter an integer number;\n",
    "will use a while loop;\n",
    "will check whether the number entered by the user is the same as the number picked by the magician. If the number chosen by the user is different than the magician's secret number, the user should see the message \"Ha ha! You're stuck in my loop!\" and be prompted to enter a number again. If the number entered by the user matches the number picked by the magician, the number should be printed to the screen, and the magician should say the following words: \"Well done, muggle! You are free now.\"\n",
    "The magician is counting on you! Don't disappoint him.\n",
    "\n",
    "  EXTRA INFO  \n",
    "By the way, look at the print() function. The way we've used it here is called multi-line printing. You can use triple quotes to print strings on multiple lines in order to make text easier to read, or create a special text-based design. Experiment with it."
   ]
  },
  {
   "cell_type": "code",
   "execution_count": 9,
   "metadata": {},
   "outputs": [
    {
     "name": "stdout",
     "output_type": "stream",
     "text": [
      "\n",
      "+===================================+\n",
      "| Welcome to my game Muggle!        |\n",
      "| Enter an Integer number           |\n",
      "| and guess what number I've        |\n",
      "| picked for you.                   |\n",
      "| So, what is the Secret Number?    |\n",
      "+===================================+\n",
      "\n",
      "Ha ha! You're stuck in my loop!\n",
      "Ha ha! You're stuck in my loop!\n",
      "\n",
      "Matched with Secret number:  777\n",
      "\n",
      "Well done, muggle! You are free now\n"
     ]
    }
   ],
   "source": [
    "print(\n",
    "\"\"\"\n",
    "+===================================+\n",
    "| Welcome to my game Muggle!        |\n",
    "| Enter an Integer number           |\n",
    "| and guess what number I've        |\n",
    "| picked for you.                   |\n",
    "| So, what is the Secret Number?    |\n",
    "+===================================+\n",
    "\"\"\"\n",
    ")\n",
    "\n",
    "secret_number = 777\n",
    "guess_num = int(input(\"Enter an integer number: \"))\n",
    "while guess_num != secret_number:\n",
    "    print(\"Ha ha! You're stuck in my loop!\" )\n",
    "    guess_num = int(input(\"enter an integer number: \"))\n",
    "    \n",
    "print(\"\\nMatched with Secret number: \", guess_num)\n",
    "print(\"\\nWell done, muggle! You are free now\")\n",
    "\n",
    "\n"
   ]
  }
 ],
 "metadata": {
  "kernelspec": {
   "display_name": "Python 3",
   "language": "python",
   "name": "python3"
  },
  "language_info": {
   "codemirror_mode": {
    "name": "ipython",
    "version": 3
   },
   "file_extension": ".py",
   "mimetype": "text/x-python",
   "name": "python",
   "nbconvert_exporter": "python",
   "pygments_lexer": "ipython3",
   "version": "3.12.8"
  }
 },
 "nbformat": 4,
 "nbformat_minor": 2
}
