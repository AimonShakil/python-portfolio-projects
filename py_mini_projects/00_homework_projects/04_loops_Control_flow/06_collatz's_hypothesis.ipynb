{
 "cells": [
  {
   "cell_type": "markdown",
   "metadata": {},
   "source": [
    "### Collatz's hypothesis\n",
    "\n",
    "1. take any non-negative and non-zero integer number and name it c0;\n",
    "2. if it's even, evaluate a new c0 as c0 ÷ 2;\n",
    "3. otherwise, if it's odd, evaluate a new c0 as 3 × c0 + 1;\n",
    "4. if c0 ≠ 1, go back to point 2.\n",
    "\n",
    "Write a program which reads one natural number and executes the above steps as long as c0 remains different from 1. We also want you to count the steps needed to achieve the goal. Your code should output all the intermediate values of c0, too.\n",
    "\n",
    "Hint: the most important part of the problem is how to transform Collatz's idea into a while loop – this is the key to success."
   ]
  },
  {
   "cell_type": "code",
   "execution_count": 6,
   "metadata": {},
   "outputs": [
    {
     "name": "stdout",
     "output_type": "stream",
     "text": [
      "46\n",
      "23\n",
      "23\n",
      "70\n",
      "35\n",
      "35\n",
      "106\n",
      "53\n",
      "53\n",
      "160\n",
      "80\n",
      "80\n",
      "40\n",
      "40\n",
      "20\n",
      "20\n",
      "10\n",
      "10\n",
      "5\n",
      "5\n",
      "16\n",
      "8\n",
      "8\n",
      "4\n",
      "4\n",
      "2\n",
      "2\n",
      "1\n",
      "1\n",
      "steps = 17\n"
     ]
    }
   ],
   "source": [
    "# Natural numbers \n",
    "\n",
    "c0 = int(input('Enter any natural number: '))\n",
    "counter = 0\n",
    "\n",
    "while c0 != 1:\n",
    "    if c0 % 2 == 0:\n",
    "        c0 =  c0 //2 \n",
    "        print(c0)\n",
    "       \n",
    "    else:\n",
    "         c0 = 3 * c0 + 1\n",
    "    print(c0) \n",
    "    counter += 1\n",
    "print(\"steps =\", counter)"
   ]
  },
  {
   "cell_type": "code",
   "execution_count": null,
   "metadata": {},
   "outputs": [],
   "source": [
    "Question 4: Create a program with a for loop and a continue statement. The program should iterate over a string of digits, replace each 0 with x, and print the modified string to the screen. Use the skeleton below:\n",
    "\n",
    "for digit in \"0165031806510\":\n",
    "    if digit == \"0\":\n",
    "        # Line of code.\n",
    "        # Line of code.\n",
    "    # Line of code."
   ]
  },
  {
   "cell_type": "code",
   "execution_count": null,
   "metadata": {},
   "outputs": [],
   "source": [
    "Question 5: What is the output of the following code?\n",
    "\n",
    "n = 3\n",
    " \n",
    "while n > 0:\n",
    "    print(n + 1)\n",
    "    n -= 1\n",
    "else:\n",
    "    print(n)"
   ]
  },
  {
   "cell_type": "code",
   "execution_count": null,
   "metadata": {},
   "outputs": [],
   "source": [
    "Question 6: What is the output of the following code?\n",
    "\n",
    "n = range(4)\n",
    " \n",
    "for num in n:\n",
    "    print(num - 1)\n",
    "else:\n",
    "    print(num)"
   ]
  },
  {
   "cell_type": "code",
   "execution_count": null,
   "metadata": {},
   "outputs": [],
   "source": [
    "for i in range(0, 6, 3):\n",
    "    print(i)"
   ]
  },
  {
   "cell_type": "code",
   "execution_count": 9,
   "metadata": {},
   "outputs": [
    {
     "name": "stdout",
     "output_type": "stream",
     "text": [
      "True\n",
      "True\n",
      "True\n",
      "True\n"
     ]
    }
   ],
   "source": [
    "var = 1\n",
    "print(var > 0)\n",
    "\n",
    "print(not (var <= 0))\n",
    "\n",
    "print(var != 0)\n",
    "print(not (var == 0))"
   ]
  }
 ],
 "metadata": {
  "kernelspec": {
   "display_name": "Python 3",
   "language": "python",
   "name": "python3"
  },
  "language_info": {
   "codemirror_mode": {
    "name": "ipython",
    "version": 3
   },
   "file_extension": ".py",
   "mimetype": "text/x-python",
   "name": "python",
   "nbconvert_exporter": "python",
   "pygments_lexer": "ipython3",
   "version": "3.12.8"
  }
 },
 "nbformat": 4,
 "nbformat_minor": 2
}
