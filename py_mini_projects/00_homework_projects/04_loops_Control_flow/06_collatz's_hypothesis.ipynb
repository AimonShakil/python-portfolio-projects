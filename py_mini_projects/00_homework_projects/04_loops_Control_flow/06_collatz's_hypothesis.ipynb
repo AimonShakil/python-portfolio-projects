{
 "cells": [
  {
   "cell_type": "markdown",
   "metadata": {},
   "source": [
    "### Collatz's hypothesis\n",
    "\n",
    "1. take any non-negative and non-zero integer number and name it c0;\n",
    "2. if it's even, evaluate a new c0 as c0 ÷ 2;\n",
    "3. otherwise, if it's odd, evaluate a new c0 as 3 × c0 + 1;\n",
    "4. if c0 ≠ 1, go back to point 2.\n",
    "\n",
    "Write a program which reads one natural number and executes the above steps as long as c0 remains different from 1. We also want you to count the steps needed to achieve the goal. Your code should output all the intermediate values of c0, too.\n",
    "\n",
    "Hint: the most important part of the problem is how to transform Collatz's idea into a while loop – this is the key to success."
   ]
  },
  {
   "cell_type": "code",
   "execution_count": 6,
   "metadata": {},
   "outputs": [
    {
     "name": "stdout",
     "output_type": "stream",
     "text": [
      "46\n",
      "23\n",
      "23\n",
      "70\n",
      "35\n",
      "35\n",
      "106\n",
      "53\n",
      "53\n",
      "160\n",
      "80\n",
      "80\n",
      "40\n",
      "40\n",
      "20\n",
      "20\n",
      "10\n",
      "10\n",
      "5\n",
      "5\n",
      "16\n",
      "8\n",
      "8\n",
      "4\n",
      "4\n",
      "2\n",
      "2\n",
      "1\n",
      "1\n",
      "steps = 17\n"
     ]
    }
   ],
   "source": [
    "# Natural numbers \n",
    "\n",
    "c0 = int(input('Enter any natural number: '))\n",
    "counter = 0\n",
    "\n",
    "while c0 != 1:\n",
    "    if c0 % 2 == 0:\n",
    "        c0 =  c0 // #2 \n",
    "        print(c0)\n",
    "       \n",
    "    else:\n",
    "         c0 = 3 * c0 + 1\n",
    "    print(c0) \n",
    "    counter += 1\n",
    "print(\"steps =\", counter)"
   ]
  },
  {
   "cell_type": "markdown",
   "metadata": {},
   "source": [
    "Create a program with a for loop and a continue statement. The program should iterate over a string of digits, replace each 0 with x, and print the modified string to the screen. Use the skeleton below:\n"
   ]
  },
  {
   "cell_type": "code",
   "execution_count": 27,
   "metadata": {},
   "outputs": [
    {
     "name": "stdout",
     "output_type": "stream",
     "text": [
      "Processing the string one digit at a time...\n",
      "Found a non-zero digit: '9'. Keeping it as it is.\n",
      "Found a zero! Replacing it with 'x' and moving on.\n",
      "Found a non-zero digit: '2'. Keeping it as it is.\n",
      "Found a non-zero digit: '1'. Keeping it as it is.\n",
      "Found a zero! Replacing it with 'x' and moving on.\n",
      "\n",
      "Final modified string: 9x21x\n"
     ]
    }
   ],
   "source": [
    "# This program processes a string of digits, replacing zeros with 'x'.\n",
    "\n",
    "# The input string we want to modify.\n",
    "digits_string = \"90210\"\n",
    "\n",
    "# We create an empty string to build the result.\n",
    "modified_string = \"\"\n",
    "\n",
    "# A for loop to go through each character (digit) in the string.\n",
    "print(\"Processing the string one digit at a time...\")\n",
    "for digit in digits_string:\n",
    "    # Check if the current digit is '0'.\n",
    "    if digit == '0':\n",
    "        # If it's a '0', add 'x' to our new string.\n",
    "        modified_string += 'x'\n",
    "        # The 'continue' statement tells the loop to immediately\n",
    "        # jump to the next iteration, skipping any code below it.\n",
    "        print(f\"Found a zero! Replacing it with 'x' and moving on.\")\n",
    "        continue  # This is the key part!\n",
    "\n",
    "    # This code only runs if the digit was NOT '0'.\n",
    "    print(f\"Found a non-zero digit: '{digit}'. Keeping it as it is.\")\n",
    "    modified_string += digit\n",
    "\n",
    "# Print the final result after the loop is complete.\n",
    "print(\"\\nFinal modified string:\", modified_string)\n"
   ]
  },
  {
   "cell_type": "code",
   "execution_count": 26,
   "metadata": {},
   "outputs": [
    {
     "name": "stdout",
     "output_type": "stream",
     "text": [
      "xxxxxxx012340122402220000\n"
     ]
    }
   ],
   "source": [
    "# Replace 0's from x   \n",
    "digits = \"012340122402220000\"\n",
    "mod_list = \"\"\n",
    "for i in digits:\n",
    "    if i == \"0\":\n",
    "        mod_list += \"x\"\n",
    "mod_list += digits\n",
    "print(mod_list)"
   ]
  },
  {
   "cell_type": "code",
   "execution_count": 14,
   "metadata": {},
   "outputs": [
    {
     "name": "stdout",
     "output_type": "stream",
     "text": [
      "4\n",
      "3\n",
      "2\n",
      "0\n"
     ]
    }
   ],
   "source": [
    "# What is the output of the following code?\n",
    "\n",
    "n = 3\n",
    " \n",
    "while n > 0:\n",
    "    print(n + 1)\n",
    "    n -= 1\n",
    "else:\n",
    "    print(n)"
   ]
  },
  {
   "cell_type": "code",
   "execution_count": 13,
   "metadata": {},
   "outputs": [
    {
     "name": "stdout",
     "output_type": "stream",
     "text": [
      "-1\n",
      "0\n",
      "1\n",
      "2\n",
      "3\n"
     ]
    }
   ],
   "source": [
    "# What is the output of the following code?\n",
    "\n",
    "n = range(4)\n",
    " \n",
    "for num in n:\n",
    "    print(num - 1)\n",
    "else:\n",
    "    print(num)"
   ]
  },
  {
   "cell_type": "code",
   "execution_count": 12,
   "metadata": {},
   "outputs": [
    {
     "name": "stdout",
     "output_type": "stream",
     "text": [
      "0\n",
      "3\n"
     ]
    }
   ],
   "source": [
    "for i in range(0, 6, 3):\n",
    "    print(i)"
   ]
  },
  {
   "cell_type": "code",
   "execution_count": 9,
   "metadata": {},
   "outputs": [
    {
     "name": "stdout",
     "output_type": "stream",
     "text": [
      "True\n",
      "True\n",
      "True\n",
      "True\n"
     ]
    }
   ],
   "source": [
    "var = 1\n",
    "print(var > 0)\n",
    "\n",
    "print(not (var <= 0))\n",
    "\n",
    "print(var != 0)\n",
    "print(not (var == 0))"
   ]
  },
  {
   "cell_type": "code",
   "execution_count": 6,
   "metadata": {},
   "outputs": [
    {
     "data": {
      "text/plain": [
       "'\\nThe provided code snippet demonstrates boolean logic and variable assignment.\\ni = 1:\\nThis statement assigns the integer value 1 to the variable i.\\nj = not not i:\\nThis statement evaluates the expression not not i and assigns the resulting boolean value to the variable j.\\nIn many programming languages (including Python), non-zero numbers are considered \"truthy\" in a boolean context, while zero is \"falsy.\"\\nTherefore, i (which is 1) is considered True.\\nnot i evaluates to not True, which results in False.\\nnot not i then evaluates to not False, which results in True.\\nConsequently, the variable j will be assigned the boolean value True.\\n\\n'"
      ]
     },
     "execution_count": 6,
     "metadata": {},
     "output_type": "execute_result"
    }
   ],
   "source": [
    "# Binary Operator\n",
    "\n",
    "i = 1\n",
    "j = not not i\n",
    " \n",
    "\"\"\" The provided code snippet demonstrates boolean logic and variable assignment.\n",
    "i = 1:\n",
    "This statement assigns the integer value 1 to the variable i.\n",
    "j = not not i:\n",
    "This statement evaluates the expression not not i and assigns the resulting boolean value to the variable j.\n",
    "In many programming languages (including Python), non-zero numbers are considered \"truthy\" in a boolean context, while zero is \"falsy.\"\n",
    "Therefore, i (which is 1) is considered True.\n",
    "not i evaluates to not True, which results in False.\n",
    "not not i then evaluates to not False, which results in True.\n",
    "Consequently, the variable j will be assigned the boolean value True.\n",
    "\"\"\"\n"
   ]
  },
  {
   "cell_type": "code",
   "execution_count": 11,
   "metadata": {},
   "outputs": [
    {
     "ename": "TypeError",
     "evalue": "len() takes exactly one argument (0 given)",
     "output_type": "error",
     "traceback": [
      "\u001b[1;31m---------------------------------------------------------------------------\u001b[0m",
      "\u001b[1;31mTypeError\u001b[0m                                 Traceback (most recent call last)",
      "Cell \u001b[1;32mIn[11], line 4\u001b[0m\n\u001b[0;32m      1\u001b[0m \u001b[38;5;66;03m# name and solve this program\u001b[39;00m\n\u001b[0;32m      3\u001b[0m my_list \u001b[38;5;241m=\u001b[39m [\u001b[38;5;241m10\u001b[39m, \u001b[38;5;241m20\u001b[39m, \u001b[38;5;241m30\u001b[39m, \u001b[38;5;241m40\u001b[39m, \u001b[38;5;241m50\u001b[39m]\n\u001b[1;32m----> 4\u001b[0m \u001b[38;5;28;01mfor\u001b[39;00m i \u001b[38;5;129;01min\u001b[39;00m \u001b[38;5;28mrange\u001b[39m(\u001b[38;5;28;43mlen\u001b[39;49m\u001b[43m(\u001b[49m\u001b[43m)\u001b[49m \u001b[38;5;241m/\u001b[39m\u001b[38;5;241m/\u001b[39m \u001b[38;5;241m2\u001b[39m):\n\u001b[0;32m      5\u001b[0m     my_list[i], my_list[\u001b[38;5;28mlen\u001b[39m() \u001b[38;5;241m-\u001b[39m i \u001b[38;5;241m-\u001b[39m\u001b[38;5;241m1\u001b[39m] \u001b[38;5;241m=\u001b[39m my_list[\u001b[38;5;28mlen\u001b[39m() \u001b[38;5;241m-\u001b[39m i \u001b[38;5;241m-\u001b[39m\u001b[38;5;241m1\u001b[39m], my_list[i]\n\u001b[0;32m      6\u001b[0m \u001b[38;5;28mprint\u001b[39m(my_list)\n",
      "\u001b[1;31mTypeError\u001b[0m: len() takes exactly one argument (0 given)"
     ]
    }
   ],
   "source": [
    "# name and solve this program\n",
    "\n",
    "my_list = [10, 20, 30, 40, 50]\n",
    "for i in range(len// 2):\n",
    "    my_list[i], my_list[len- i -1] = my_list[len() - i -1], my_list[i]\n",
    "print(my_list)"
   ]
  },
  {
   "cell_type": "code",
   "execution_count": 8,
   "metadata": {},
   "outputs": [
    {
     "name": "stdout",
     "output_type": "stream",
     "text": [
      "*\n",
      "*\n"
     ]
    }
   ],
   "source": [
    "\n",
    "# Number of Stars Printed\n",
    "\n",
    "i = 0\n",
    "while i <= 5:\n",
    "     i += 1\n",
    "     if i % 2 == 0:\n",
    "          break\n",
    "     print(\"*\")"
   ]
  }
 ],
 "metadata": {
  "kernelspec": {
   "display_name": "Python 3",
   "language": "python",
   "name": "python3"
  },
  "language_info": {
   "codemirror_mode": {
    "name": "ipython",
    "version": 3
   },
   "file_extension": ".py",
   "mimetype": "text/x-python",
   "name": "python",
   "nbconvert_exporter": "python",
   "pygments_lexer": "ipython3",
   "version": "3.12.8"
  }
 },
 "nbformat": 4,
 "nbformat_minor": 2
}
