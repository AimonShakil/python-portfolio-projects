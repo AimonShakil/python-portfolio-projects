{
 "cells": [
  {
   "cell_type": "markdown",
   "metadata": {},
   "source": [
    "# while Loop\n",
    "\n",
    "- A program that reads a sequence of numbers\n",
    "- and counts how many numbers are even and how many are odd.\n",
    "- The program terminates when zero is entered."
   ]
  },
  {
   "cell_type": "code",
   "execution_count": 1,
   "metadata": {},
   "outputs": [
    {
     "name": "stdout",
     "output_type": "stream",
     "text": [
      "even numbers count:  3\n",
      "odd numbers count:  4\n"
     ]
    }
   ],
   "source": [
    "odd_numbers: int= 0\n",
    "even_numbers: int= 0\n",
    "\n",
    "# Read the first number\n",
    "number: int = int(input(\"Enter a number or type 0 to stop: \"))\n",
    "while number != 0:\n",
    "    if number % 2 == 1:\n",
    "        odd_numbers += 1\n",
    "    else:\n",
    "        even_numbers += 1\n",
    "    number = int(input(\"enter a number or type 0 to stop:\"))\n",
    "print(\"even numbers count: \", even_numbers)\n",
    "print(\"odd numbers count: \", odd_numbers)\n",
    "\n",
    "\n"
   ]
  },
  {
   "cell_type": "code",
   "execution_count": 2,
   "metadata": {},
   "outputs": [
    {
     "name": "stdout",
     "output_type": "stream",
     "text": [
      "Inside the loop 5\n",
      "Inside the loop 4\n",
      "Inside the loop 3\n",
      "Inside the loop 2\n",
      "Inside the loop 1\n",
      "Outside the loop 0\n"
     ]
    }
   ],
   "source": [
    "# Counter\n",
    "\n",
    "counter = 5\n",
    "\n",
    "while counter != 0:  # while counter\n",
    "    print(\"Inside the loop\", counter)\n",
    "    counter -= 1\n",
    "print(\"Outside the loop\", counter)"
   ]
  }
 ],
 "metadata": {
  "kernelspec": {
   "display_name": "Python 3",
   "language": "python",
   "name": "python3"
  },
  "language_info": {
   "codemirror_mode": {
    "name": "ipython",
    "version": 3
   },
   "file_extension": ".py",
   "mimetype": "text/x-python",
   "name": "python",
   "nbconvert_exporter": "python",
   "pygments_lexer": "ipython3",
   "version": "3.12.8"
  }
 },
 "nbformat": 4,
 "nbformat_minor": 2
}
