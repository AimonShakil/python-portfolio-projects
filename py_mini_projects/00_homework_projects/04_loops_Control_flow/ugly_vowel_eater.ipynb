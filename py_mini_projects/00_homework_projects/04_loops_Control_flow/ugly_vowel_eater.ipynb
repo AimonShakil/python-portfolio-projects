{
 "cells": [
  {
   "cell_type": "code",
   "execution_count": 2,
   "metadata": {},
   "outputs": [
    {
     "name": "stdout",
     "output_type": "stream",
     "text": [
      "The Break Istruction:\n",
      "The Inside Loop 1\n",
      "The Inside Loop 2\n",
      "The outside Loop.\n",
      "The Inside Loop 1\n",
      "The Inside Loop 2\n",
      "The Inside Loop 4\n",
      "The Inside Loop 5\n",
      "The outside Loop.\n"
     ]
    }
   ],
   "source": [
    "print('The Break Istruction:')\n",
    "for i in range(1, 6):\n",
    "    if i == 3:\n",
    "        break\n",
    "    print(\"The Inside Loop\", i)\n",
    "print(\"The outside Loop.\")\n",
    "\n",
    "\n",
    "# Continue Example\n",
    "for i in range(1, 6):\n",
    "    if i == 3:\n",
    "        continue\n",
    "    print(\"The Inside Loop\", i)\n",
    "print(\"The outside Loop.\")\n",
    "\n",
    "\n"
   ]
  },
  {
   "cell_type": "markdown",
   "metadata": {},
   "source": [
    "###  Program that recognizes the largest among the entered numbers. We'll convert it twice, using the break and continue instructions."
   ]
  },
  {
   "cell_type": "markdown",
   "metadata": {},
   "source": [
    "### Break Variant"
   ]
  },
  {
   "cell_type": "code",
   "execution_count": 7,
   "metadata": {},
   "outputs": [
    {
     "name": "stdout",
     "output_type": "stream",
     "text": [
      "The number of entered numbers is: 1\n",
      "The number of entered numbers is: 2\n",
      "The number of entered numbers is: 3\n",
      "The number of entered numbers is: 4\n",
      "The largest number is: 1\n"
     ]
    }
   ],
   "source": [
    "largest_num: int = -99999999\n",
    "counter = 0\n",
    "\n",
    "while True:\n",
    "    num = int(input(\"Enter the number or type -1 to exit the program:\"))\n",
    "    if num == -1:\n",
    "        break\n",
    "    counter += 1\n",
    "    print(\"The number of entered numbers is:\", counter)\n",
    "    if num > largest_num:\n",
    "        largest_num = num\n",
    "if counter != 0:\n",
    "    print(\"The largest number is:\", largest_num)\n",
    "else:\n",
    "    print(\"You haven't entered any number.\")\n"
   ]
  },
  {
   "cell_type": "markdown",
   "metadata": {},
   "source": [
    "### Continue Variant"
   ]
  },
  {
   "cell_type": "code",
   "execution_count": null,
   "metadata": {},
   "outputs": [],
   "source": [
    "# the user enters the first number before the program enters the while loop. The subsequent number is entered when the \n",
    "# program is already in the loop.\n",
    "\n",
    "lar_num: int = -999999999\n",
    "counter = 0\n",
    "\n",
    "num = int(input(\"Enter the number or type -1 to exit the program:\"))\n",
    "while num != -1:\n",
    "    if num == -1:\n",
    "        continue\n",
    "    counter += 1\n",
    "\n",
    "    if num > lar_num:\n",
    "        lar_num = num\n",
    "    num = int(input(\"Enter the number or type -1 to exit the program:\"))\n",
    "     \n"
   ]
  },
  {
   "cell_type": "markdown",
   "metadata": {},
   "source": [
    "####  Design a program that uses a while loop and continuously asks the user to enter a word unless the user enters \"chupacabra\" as the secret exit word, in which case the message \"You've successfully left the loop.\" should be printed to the screen, and the loop should terminate."
   ]
  },
  {
   "cell_type": "code",
   "execution_count": null,
   "metadata": {},
   "outputs": [],
   "source": [
    "secret_exit_word: str = \"chupacabra\"\n",
    "\n",
    "word: str = input(\"Enter a word or press, you can only exit by typing secret word: \")\n",
    "\n",
    "while word:\n",
    "    if word != secret_exit_word:\n",
    "        word: str = input(\"Enter a word or press, you can only exit by typing secret word: \")\n",
    "        continue \n",
    "    \n",
    "    if word == secret_exit_word:\n",
    "        print(\"You've successfully left the loop.\")\n",
    "    break"
   ]
  },
  {
   "cell_type": "markdown",
   "metadata": {},
   "source": [
    "## design a vowel eater! Write a program that uses:\n",
    "\n",
    "a for loop;\n",
    "the concept of conditional execution (if-elif-else)\n",
    "the continue statement."
   ]
  },
  {
   "cell_type": "code",
   "execution_count": 3,
   "metadata": {},
   "outputs": [
    {
     "name": "stdout",
     "output_type": "stream",
     "text": [
      "SAAAAB\n",
      "SAAAAB\n",
      "SAAAAB\n",
      "SAAAAB\n",
      "SAAAAB\n",
      "SAAAAB\n"
     ]
    }
   ],
   "source": [
    "\n",
    "\n",
    "user_word: str = input(\"Enter any Alphabet: \")\n",
    "user = user_word.upper()\n",
    "\n",
    "for i in user:\n",
    "    if user_word == \"A\":\n",
    "        continue\n",
    "    elif user_word == \"E\":\n",
    "        continue\n",
    "    elif user_word == \"I\":\n",
    "        continue\n",
    "    elif user_word == \"O\":\n",
    "        continue\n",
    "    elif user_word == \"U\":\n",
    "        continue\n",
    "    else:\n",
    "        print(user_word)\n",
    "\n",
    "\n",
    "\n"
   ]
  }
 ],
 "metadata": {
  "kernelspec": {
   "display_name": "Python 3",
   "language": "python",
   "name": "python3"
  },
  "language_info": {
   "codemirror_mode": {
    "name": "ipython",
    "version": 3
   },
   "file_extension": ".py",
   "mimetype": "text/x-python",
   "name": "python",
   "nbconvert_exporter": "python",
   "pygments_lexer": "ipython3",
   "version": "3.12.8"
  }
 },
 "nbformat": 4,
 "nbformat_minor": 2
}
