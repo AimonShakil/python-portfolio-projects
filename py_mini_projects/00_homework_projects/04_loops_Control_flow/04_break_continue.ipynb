{
 "cells": [
  {
   "cell_type": "code",
   "execution_count": 2,
   "metadata": {},
   "outputs": [
    {
     "name": "stdout",
     "output_type": "stream",
     "text": [
      "The Break Istruction:\n",
      "The Inside Loop 1\n",
      "The Inside Loop 2\n",
      "The outside Loop.\n",
      "The Inside Loop 1\n",
      "The Inside Loop 2\n",
      "The Inside Loop 4\n",
      "The Inside Loop 5\n",
      "The outside Loop.\n"
     ]
    }
   ],
   "source": [
    "print('The Break Istruction:')\n",
    "for i in range(1, 6):\n",
    "    if i == 3:\n",
    "        break\n",
    "    print(\"The Inside Loop\", i)\n",
    "print(\"The outside Loop.\")\n",
    "\n",
    "\n",
    "# Continue Example\n",
    "for i in range(1, 6):\n",
    "    if i == 3:\n",
    "        continue\n",
    "    print(\"The Inside Loop\", i)\n",
    "print(\"The outside Loop.\")\n",
    "\n",
    "\n"
   ]
  }
 ],
 "metadata": {
  "kernelspec": {
   "display_name": "Python 3",
   "language": "python",
   "name": "python3"
  },
  "language_info": {
   "codemirror_mode": {
    "name": "ipython",
    "version": 3
   },
   "file_extension": ".py",
   "mimetype": "text/x-python",
   "name": "python",
   "nbconvert_exporter": "python",
   "pygments_lexer": "ipython3",
   "version": "3.12.8"
  }
 },
 "nbformat": 4,
 "nbformat_minor": 2
}
