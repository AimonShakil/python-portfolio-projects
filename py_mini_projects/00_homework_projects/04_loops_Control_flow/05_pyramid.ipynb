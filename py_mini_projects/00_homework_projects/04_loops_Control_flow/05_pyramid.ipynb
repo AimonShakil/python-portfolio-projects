{
 "cells": [
  {
   "cell_type": "markdown",
   "metadata": {},
   "source": [
    "### Building a Pyramid\n",
    "\n",
    "write a program which reads the number of blocks the builders have, and outputs the height of the pyramid that can be built using these blocks.\n",
    "\n",
    "Note: the height is measured by the number of fully completed layers – if the builders don't have a sufficient number of blocks and cannot complete the next layer, they finish their work immediately."
   ]
  },
  {
   "cell_type": "markdown",
   "metadata": {},
   "source": [
    "Bottom Up - pyramid Building"
   ]
  },
  {
   "cell_type": "code",
   "execution_count": null,
   "metadata": {},
   "outputs": [],
   "source": [
    "# This program uses a bottom-up approach to calculate pyramid height.\n",
    "\n",
    "# Get the number of blocks from the user.\n",
    "blocks = int(input(\"Enter the number of Blocks to build a pyramid: \"))\n",
    "\n",
    "# Initialize variables.\n",
    "height = 0\n",
    "used_blocks = 0\n",
    "\n",
    "# Start a loop that will run forever until we 'break' out of it.\n",
    "while True:\n",
    "    # Calculate how many blocks are needed for the next layer.\n",
    "    # It's always the current height + 1.\n",
    "    blocks_for_next_row = height + 1\n",
    " #      1  = 0 + 1   \n",
    "    # Check if we have enough blocks to build this next layer.\n",
    "    # The condition is: (blocks we have already used) + (blocks for the next layer)\n",
    "    # is less than or equal to (our total available blocks).\n",
    "    if used_blocks + blocks_for_next_row <= blocks:\n",
    "        #  0  + 1 <= 6 \n",
    "        # If we have enough blocks, add the blocks for this layer to our used count.\n",
    "        used_blocks += blocks_for_next_row\n",
    "        # 0 += 1\n",
    "        # And increase our completed height by 1.\n",
    "        height += 1\n",
    "    else: \n",
    "        # If we don't have enough blocks for the next layer, we stop building.\n",
    "        break\n",
    "        \n",
    "# Print the final height of the pyramid.\n",
    "print(\"The height of Pyramid:\", height)"
   ]
  },
  {
   "cell_type": "code",
   "execution_count": 1,
   "metadata": {},
   "outputs": [
    {
     "name": "stdout",
     "output_type": "stream",
     "text": [
      "The height of Pyramid: 3\n"
     ]
    }
   ],
   "source": [
    "blocks = int(input(\"Enter the number of Blocks to build a pyramid: \"))\n",
    "height = 0\n",
    "used_blocks = 0\n",
    "\n",
    "while True:\n",
    "    block_row = height + 1\n",
    "    if used_blocks + block_row <= blocks:\n",
    "        used_blocks += 1\n",
    "        height += 1\n",
    "    else: \n",
    "        break\n",
    "print(\"The height of Pyramid:\", height)\n"
   ]
  },
  {
   "cell_type": "markdown",
   "metadata": {},
   "source": [
    "Top Down - Pyramid Building"
   ]
  },
  {
   "cell_type": "code",
   "execution_count": null,
   "metadata": {},
   "outputs": [
    {
     "name": "stdout",
     "output_type": "stream",
     "text": [
      "The height of the pyramid is: 4\n"
     ]
    }
   ],
   "source": [
    "blocks = int(input('Enter no of Blocks')) # 6\n",
    "height = 0\n",
    "block_needed_for_the_next_layer = 1\n",
    "\n",
    "while blocks >= block_needed_for_the_next_layer:\n",
    "    # 6 >= 1\n",
    "    blocks -= block_needed_for_the_next_layer\n",
    "    # 6 -= 6 - 1 = 5\n",
    "    height += 1\n",
    "    # 0 = 0 +1 = 1\n",
    "    block_needed_for_the_next_layer += 1\n",
    "    # 1 + 1 = 2\n",
    "\n",
    "print(\"The height of the pyramid is:\", height)    \n",
    "   "
   ]
  }
 ],
 "metadata": {
  "kernelspec": {
   "display_name": "Python 3",
   "language": "python",
   "name": "python3"
  },
  "language_info": {
   "codemirror_mode": {
    "name": "ipython",
    "version": 3
   },
   "file_extension": ".py",
   "mimetype": "text/x-python",
   "name": "python",
   "nbconvert_exporter": "python",
   "pygments_lexer": "ipython3",
   "version": "3.12.8"
  }
 },
 "nbformat": 4,
 "nbformat_minor": 2
}
