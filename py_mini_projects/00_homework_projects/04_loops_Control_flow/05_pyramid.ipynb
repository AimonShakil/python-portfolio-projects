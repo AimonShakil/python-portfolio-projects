{
 "cells": [
  {
   "cell_type": "markdown",
   "metadata": {},
   "source": [
    "### Building a Pyramid\n",
    "\n",
    "write a program which reads the number of blocks the builders have, and outputs the height of the pyramid that can be built using these blocks.\n",
    "\n",
    "Note: the height is measured by the number of fully completed layers – if the builders don't have a sufficient number of blocks and cannot complete the next layer, they finish their work immediately."
   ]
  },
  {
   "cell_type": "code",
   "execution_count": 1,
   "metadata": {},
   "outputs": [
    {
     "name": "stdout",
     "output_type": "stream",
     "text": [
      "The height of Pyramid: 3\n"
     ]
    }
   ],
   "source": [
    "blocks = int(input(\"Enter the number of Blocks to build a pyramid: \"))\n",
    "height = 0\n",
    "used_blocks = 0\n",
    "\n",
    "while True:\n",
    "    block_row = height + 1\n",
    "    if used_blocks + block_row <= blocks:\n",
    "        used_blocks += 1\n",
    "        height += 1\n",
    "    else: \n",
    "        break\n",
    "print(\"The height of Pyramid:\", height)\n"
   ]
  }
 ],
 "metadata": {
  "kernelspec": {
   "display_name": "Python 3",
   "language": "python",
   "name": "python3"
  },
  "language_info": {
   "codemirror_mode": {
    "name": "ipython",
    "version": 3
   },
   "file_extension": ".py",
   "mimetype": "text/x-python",
   "name": "python",
   "nbconvert_exporter": "python",
   "pygments_lexer": "ipython3",
   "version": "3.12.8"
  }
 },
 "nbformat": 4,
 "nbformat_minor": 2
}
