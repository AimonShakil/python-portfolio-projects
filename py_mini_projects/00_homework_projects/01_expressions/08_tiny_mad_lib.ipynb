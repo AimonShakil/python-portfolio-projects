{
 "cells": [
  {
   "cell_type": "markdown",
   "metadata": {},
   "source": [
    "## Problem Statement\n",
    "\n",
    "---\n",
    "\n",
    "Write a program which prompts the user for an adjective, then a noun, then a verb, and then prints a fun sentence with those words!\n",
    "\n",
    "Mad Libs is a word game where players are prompted for one word at a time, and the words are eventually filled into the blanks of a word template to make an entertaining story! We've provided you with the beginning of a sentence (the SENTENCE_START constant) which will end in a user-inputted adjective, noun, and then verb.\n",
    "\n",
    "Here's a sample run (user input is in bold italics):\n",
    "\n",
    "Please type an adjective and press enter. tiny\n",
    "\n",
    "Please type a noun and press enter. plant\n",
    "\n",
    "Please type a verb and press enter. fly\n",
    "\n",
    "Code in Place is fun. I learned to program and used Python to make my tiny plant fly!"
   ]
  },
  {
   "cell_type": "code",
   "execution_count": 1,
   "metadata": {},
   "outputs": [
    {
     "name": "stdout",
     "output_type": "stream",
     "text": [
      "Panaveristy is fun. I learned to program and used python to make my shining star doing!\n"
     ]
    }
   ],
   "source": [
    "SENTENCE_START : str = \"Panaveristy is fun. I learned to program and used python to make my \"\n",
    "\n",
    "def main():\n",
    "    adjective: str = input(\"Please type an adjective and press enter.  \")\n",
    "    noun: str = input(\"Please type an noun and press enter.  \")\n",
    "    verb: str = input(\"Please type an verb and press enter.  \")\n",
    "\n",
    "    # joining the Inputs together with the Sentence Starter\n",
    "\n",
    "    print(SENTENCE_START + adjective +\" \"+ noun +\" \" + verb + \"!\" )\n",
    "\n",
    "if __name__ == '__main__':\n",
    "    main()"
   ]
  }
 ],
 "metadata": {
  "kernelspec": {
   "display_name": "Python 3",
   "language": "python",
   "name": "python3"
  },
  "language_info": {
   "codemirror_mode": {
    "name": "ipython",
    "version": 3
   },
   "file_extension": ".py",
   "mimetype": "text/x-python",
   "name": "python",
   "nbconvert_exporter": "python",
   "pygments_lexer": "ipython3",
   "version": "3.12.8"
  }
 },
 "nbformat": 4,
 "nbformat_minor": 2
}
