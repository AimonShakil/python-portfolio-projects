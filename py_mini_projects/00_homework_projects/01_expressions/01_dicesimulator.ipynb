{
 "cells": [
  {
   "cell_type": "markdown",
   "metadata": {},
   "source": [
    "## Problem Statement\n",
    "Simulate rolling two dice, three times. Prints the results of each die roll. This program is used to show how variable scope works."
   ]
  },
  {
   "cell_type": "code",
   "execution_count": 12,
   "metadata": {},
   "outputs": [
    {
     "name": "stdout",
     "output_type": "stream",
     "text": [
      "Rolled time 1 dice1 is: 5 and dice2 is: 2\n",
      "Rolled time 2 dice1 is: 4 and dice2 is: 6\n",
      "Rolled time 3 dice1 is: 1 and dice2 is: 3\n"
     ]
    }
   ],
   "source": [
    "import random\n",
    "def main():\n",
    "    def roll_two_dices():\n",
    "        dice1 = random.randint(1,6)\n",
    "        dice2 = random.randint(1,6)\n",
    "        print(f\"Rolled time {i} dice1 is: {dice1} and dice2 is: {dice2}\")\n",
    "\n",
    "    for i in range(1,4):\n",
    "        roll_two_dices()\n",
    "    \n",
    "\n",
    "if __name__ == '__main__':\n",
    "    main()\n"
   ]
  },
  {
   "cell_type": "code",
   "execution_count": 13,
   "metadata": {},
   "outputs": [
    {
     "name": "stdout",
     "output_type": "stream",
     "text": [
      "die1 in main() starts as: 10\n",
      "Total of two dice:  7\n",
      "Total of two dice:  3\n",
      "Total of two dice:  6\n",
      "die1 in main() is:  10\n"
     ]
    }
   ],
   "source": [
    "\"\"\"\n",
    "program: dicesimulator\n",
    "----------------------\n",
    "Simulate rolling two dice, three times.  Prints\n",
    "the results of each die roll.  This program is used\n",
    "to show how variable scope works.\n",
    "\"\"\"\n",
    "# will import random that let us simulate random things like dice\n",
    "\n",
    "import random \n",
    "# number of sides on each die to roll\n",
    "NUM_SIDES = 6\n",
    "\n",
    "def roll_dice():\n",
    "    \"\"\"\n",
    "    Simulate rolling two dice and print thier total\n",
    "    \"\"\"\n",
    "\n",
    "    die1: int = random.randint(1, NUM_SIDES)\n",
    "    die2: int = random.randint(1, NUM_SIDES)\n",
    "    total: int = die1 + die2\n",
    "    print(\"Total of two dice: \", total)\n",
    "\n",
    "def main():\n",
    "    die1: int = 10\n",
    "    print(\"die1 in main() starts as: \" + str(die1))\n",
    "    roll_dice()\n",
    "    roll_dice()\n",
    "    roll_dice()\n",
    "    print(\"die1 in main() is:  \" + str(die1))\n",
    "\n",
    "if __name__ == '__main__':\n",
    "    main()"
   ]
  }
 ],
 "metadata": {
  "kernelspec": {
   "display_name": "Python 3",
   "language": "python",
   "name": "python3"
  },
  "language_info": {
   "codemirror_mode": {
    "name": "ipython",
    "version": 3
   },
   "file_extension": ".py",
   "mimetype": "text/x-python",
   "name": "python",
   "nbconvert_exporter": "python",
   "pygments_lexer": "ipython3",
   "version": "3.12.8"
  }
 },
 "nbformat": 4,
 "nbformat_minor": 2
}
