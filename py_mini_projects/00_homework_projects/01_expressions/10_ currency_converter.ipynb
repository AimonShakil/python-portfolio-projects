{
 "cells": [
  {
   "cell_type": "markdown",
   "metadata": {},
   "source": [
    "## A USD to EUR converter\n",
    "\n",
    "--- "
   ]
  },
  {
   "cell_type": "code",
   "execution_count": 3,
   "metadata": {},
   "outputs": [
    {
     "name": "stdout",
     "output_type": "stream",
     "text": [
      "1 USD is 0.86\n",
      "1 EURO is 1.1627906976744187\n"
     ]
    }
   ],
   "source": [
    "USD = 1\n",
    "EUR = 1\n",
    "\n",
    "usd_to_euro = USD * 0.86\n",
    "euro_to_usd = EUR / 0.86\n",
    "\n",
    "\n",
    "print(USD, \"USD is\" , usd_to_euro )\n",
    "print(EUR, \"EURO is\" , euro_to_usd )\n"
   ]
  }
 ],
 "metadata": {
  "kernelspec": {
   "display_name": "Python 3",
   "language": "python",
   "name": "python3"
  },
  "language_info": {
   "codemirror_mode": {
    "name": "ipython",
    "version": 3
   },
   "file_extension": ".py",
   "mimetype": "text/x-python",
   "name": "python",
   "nbconvert_exporter": "python",
   "pygments_lexer": "ipython3",
   "version": "3.12.8"
  }
 },
 "nbformat": 4,
 "nbformat_minor": 2
}
