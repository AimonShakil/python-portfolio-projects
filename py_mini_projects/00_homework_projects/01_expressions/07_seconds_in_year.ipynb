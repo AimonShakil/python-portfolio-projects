{
 "cells": [
  {
   "cell_type": "markdown",
   "metadata": {},
   "source": [
    "## Problem Statement\n",
    "\n",
    "---- \n",
    "\n",
    "Use Python to calculate the number of seconds in a year, and tell the user what the result is in a nice print statement that looks like this (of course the value 5 should be the calculated number instead):\n",
    "\n",
    "There are 5 seconds in a year!\n",
    "\n",
    "You should use constants for this exercise -- there are 365 days in a year, 24 hours in a day, 60 minutes in an hour, and 60 seconds per minute."
   ]
  },
  {
   "cell_type": "code",
   "execution_count": 5,
   "metadata": {},
   "outputs": [
    {
     "name": "stdout",
     "output_type": "stream",
     "text": [
      "There are 31536000 seconds in a year\n"
     ]
    }
   ],
   "source": [
    "# useful constants to help make the math easier and cleaner\n",
    "\n",
    "DAYS_PER_YEAR: int = 365\n",
    "HOURS_IN_DAYS: int = 24\n",
    "MINUTES_IN_HOURS: int = 60\n",
    "SECONDS_PER_MINUTE: int = 60\n",
    "\n",
    "def main():\n",
    "    # we can get the number of seconds per year by multiplying the handy constants above\n",
    "    print(\"There are \" + str (DAYS_PER_YEAR * HOURS_IN_DAYS* MINUTES_IN_HOURS * SECONDS_PER_MINUTE) + \" seconds in a year\")\n",
    "\n",
    "if __name__ == '__main__':\n",
    "    main()"
   ]
  }
 ],
 "metadata": {
  "kernelspec": {
   "display_name": "Python 3",
   "language": "python",
   "name": "python3"
  },
  "language_info": {
   "codemirror_mode": {
    "name": "ipython",
    "version": 3
   },
   "file_extension": ".py",
   "mimetype": "text/x-python",
   "name": "python",
   "nbconvert_exporter": "python",
   "pygments_lexer": "ipython3",
   "version": "3.12.8"
  }
 },
 "nbformat": 4,
 "nbformat_minor": 2
}
