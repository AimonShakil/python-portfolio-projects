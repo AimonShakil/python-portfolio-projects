{
 "cells": [
  {
   "cell_type": "markdown",
   "metadata": {},
   "source": [
    "## Miles and kilometers Conversion\n",
    "\n",
    "--- \n",
    "Miles and kilometers are units of length or distance.\n",
    "Bearing in mind that 1 mile is equal to approximately 1.61 kilometers, complete the program in the editor so that it converts:\n",
    "\n",
    "miles to kilometers;\n",
    "kilometers to miles.\n",
    "\n",
    "*_Analogy: when converting units depends on whether you're going from a larger unit to a smaller unit or vice versa._*\n",
    "*_The Rule_*\n",
    "*_The core idea is to think about the size of the units:_*\n",
    "\n",
    "*_To convert from a larger unit to a smaller unit, MULTIPLY by the conversion factor (1.61)_*\n",
    "*_To convert from a smaller unit to a larger unit, DIVIDE by the conversion factor (1.61)._*"
   ]
  },
  {
   "cell_type": "code",
   "execution_count": 1,
   "metadata": {},
   "outputs": [
    {
     "name": "stdout",
     "output_type": "stream",
     "text": [
      "10 miles is 16.1 km\n",
      "20 km to miles 12.42 miles\n"
     ]
    }
   ],
   "source": [
    "miles = 10\n",
    "km = 20\n",
    "\n",
    "miles_to_km = miles * 1.61\n",
    "km_to_miles = km / 1.61\n",
    "\n",
    "print(miles, \"miles is\", round(miles_to_km, 2), \"km\" )\n",
    "print(km, \"km to miles\", round(km_to_miles, 2), \"miles\")"
   ]
  }
 ],
 "metadata": {
  "kernelspec": {
   "display_name": "Python 3",
   "language": "python",
   "name": "python3"
  },
  "language_info": {
   "codemirror_mode": {
    "name": "ipython",
    "version": 3
   },
   "file_extension": ".py",
   "mimetype": "text/x-python",
   "name": "python",
   "nbconvert_exporter": "python",
   "pygments_lexer": "ipython3",
   "version": "3.12.8"
  }
 },
 "nbformat": 4,
 "nbformat_minor": 2
}
