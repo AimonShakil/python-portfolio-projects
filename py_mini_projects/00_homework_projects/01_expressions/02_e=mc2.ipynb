{
 "cells": [
  {
   "cell_type": "markdown",
   "metadata": {},
   "source": [
    "## Problem Statement\n",
    "---\n",
    "\n",
    "Write a program that continually reads in mass from the user and then outputs the equivalent energy using Einstein's mass-energy equivalence formula (E stands for energy, m stands for mass, and C is the speed of light:\n",
    "\n",
    "E = m * c**2\n",
    "\n",
    "Almost 100 years ago, Albert Einstein famously discovered that mass and energy are interchangeable and are related by the above equation. You should ask the user for mass (m) in kilograms and use a constant value for the speed of light -- C = 299792458 m/s.\n",
    "\n",
    "Here's a sample run of the program (user input is in bold italics):\n",
    "\n",
    "Enter kilos of mass: 100\n",
    "\n",
    "e = m * C^2...\n",
    "\n",
    "m = 100.0 kg\n",
    "\n",
    "C = 299792458 m/s\n",
    "\n",
    "8.987551787368176e+18 joules of energy!"
   ]
  },
  {
   "cell_type": "code",
   "execution_count": 1,
   "metadata": {},
   "outputs": [
    {
     "name": "stdout",
     "output_type": "stream",
     "text": [
      "5995849160.0 Joules of energy!\n"
     ]
    }
   ],
   "source": [
    "def main():\n",
    "    mass : float = float(input(\"Enter the mass in KG: \"))\n",
    "    speed_light = 299792458\n",
    "    e = mass * speed_light * 2\n",
    "    \n",
    "\n",
    "    print(f\"{e} Joules of energy!\")\n",
    "if __name__ == '__main__':\n",
    "    main()  "
   ]
  }
 ],
 "metadata": {
  "kernelspec": {
   "display_name": "Python 3",
   "language": "python",
   "name": "python3"
  },
  "language_info": {
   "codemirror_mode": {
    "name": "ipython",
    "version": 3
   },
   "file_extension": ".py",
   "mimetype": "text/x-python",
   "name": "python",
   "nbconvert_exporter": "python",
   "pygments_lexer": "ipython3",
   "version": "3.12.8"
  }
 },
 "nbformat": 4,
 "nbformat_minor": 2
}
