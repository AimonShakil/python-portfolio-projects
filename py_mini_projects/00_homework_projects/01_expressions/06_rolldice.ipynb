{
 "cells": [
  {
   "cell_type": "markdown",
   "metadata": {},
   "source": [
    "Problem Statement\n",
    "____\n",
    "\n",
    "Simulate rolling two dice, and prints results of each roll as well as the total."
   ]
  },
  {
   "cell_type": "code",
   "execution_count": 6,
   "metadata": {},
   "outputs": [
    {
     "name": "stdout",
     "output_type": "stream",
     "text": [
      "Result of dice 1 is : 6 result of dice 2 is: 4\n",
      "Total of two dice roll is 10 \n"
     ]
    }
   ],
   "source": [
    "\"\"\"\n",
    "Program: Simulate rolling two dice, and prints results of each\n",
    "roll as well as the total.\n",
    "-----------------\n",
    "\n",
    "\"\"\"\n",
    "import random\n",
    "NUM_SIDES: int = 6\n",
    "\n",
    "dice1: int = random.randint(1, NUM_SIDES)\n",
    "dice2: int = random.randint(1, NUM_SIDES)\n",
    "total = dice1 + dice2\n",
    "print(f\"Result of dice 1 is : {dice1} result of dice 2 is: {dice2}\")\n",
    "print(f\"Total of two dice roll is {total} \")"
   ]
  }
 ],
 "metadata": {
  "kernelspec": {
   "display_name": "Python 3",
   "language": "python",
   "name": "python3"
  },
  "language_info": {
   "codemirror_mode": {
    "name": "ipython",
    "version": 3
   },
   "file_extension": ".py",
   "mimetype": "text/x-python",
   "name": "python",
   "nbconvert_exporter": "python",
   "pygments_lexer": "ipython3",
   "version": "3.12.8"
  }
 },
 "nbformat": 4,
 "nbformat_minor": 2
}
