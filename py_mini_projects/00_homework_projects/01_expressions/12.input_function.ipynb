{
 "cells": [
  {
   "cell_type": "markdown",
   "metadata": {},
   "source": [
    "# Length of a hypotenuse\n",
    "\n",
    "--- \n",
    "\n",
    "Lets make it able to read the lengths of the legs from the console."
   ]
  },
  {
   "cell_type": "code",
   "execution_count": 1,
   "metadata": {},
   "outputs": [
    {
     "name": "stdout",
     "output_type": "stream",
     "text": [
      "Hypotenuse lenght is  4.47213595499958\n"
     ]
    }
   ],
   "source": [
    "leg_a : int = float(input(\"Input the first length leg: \"))\n",
    "leg_b : int = float(input(\"Input the second length leg: \"))\n",
    "\n",
    "hypo = (leg_a ** 2 + leg_b ** 2) ** .5\n",
    "print(\"Hypotenuse lenght is \", hypo)"
   ]
  }
 ],
 "metadata": {
  "kernelspec": {
   "display_name": "Python 3",
   "language": "python",
   "name": "python3"
  },
  "language_info": {
   "codemirror_mode": {
    "name": "ipython",
    "version": 3
   },
   "file_extension": ".py",
   "mimetype": "text/x-python",
   "name": "python",
   "nbconvert_exporter": "python",
   "pygments_lexer": "ipython3",
   "version": "3.12.8"
  }
 },
 "nbformat": 4,
 "nbformat_minor": 2
}
