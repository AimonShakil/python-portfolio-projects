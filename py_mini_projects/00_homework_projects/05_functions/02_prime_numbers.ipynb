{
 "cells": [
  {
   "cell_type": "markdown",
   "metadata": {},
   "source": [
    "A natural number is prime if it is greater than 1 and has no divisors other than 1 and itself.\n",
    "- 7 is a prime number, as we can't find any legal divisors for it.\n",
    "- 8 isn't a prime number, as you can divide it by 2 and 4\n",
    "\n",
    "Task is to write a function checking whether a number is prime or not."
   ]
  },
  {
   "cell_type": "code",
   "execution_count": 1,
   "metadata": {},
   "outputs": [
    {
     "name": "stdout",
     "output_type": "stream",
     "text": [
      "2 3 5 7 11 13 17 19 \n"
     ]
    }
   ],
   "source": [
    "def is_prime(num):\n",
    "    for i in range(2, int(1 + num ** 0.5)):\n",
    "        if num % i == 0:\n",
    "            return False\n",
    "    return True\n",
    "\n",
    "for i in range(1, 20):\n",
    "    if is_prime(i + 1):\n",
    "        print(i + 1, end= \" \")\n",
    "print()"
   ]
  }
 ],
 "metadata": {
  "kernelspec": {
   "display_name": "Python 3",
   "language": "python",
   "name": "python3"
  },
  "language_info": {
   "codemirror_mode": {
    "name": "ipython",
    "version": 3
   },
   "file_extension": ".py",
   "mimetype": "text/x-python",
   "name": "python",
   "nbconvert_exporter": "python",
   "pygments_lexer": "ipython3",
   "version": "3.12.8"
  }
 },
 "nbformat": 4,
 "nbformat_minor": 2
}
