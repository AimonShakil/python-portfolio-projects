{
 "cells": [
  {
   "cell_type": "markdown",
   "metadata": {},
   "source": [
    "## Evaluating BMI and Converting Imperial Units to metrics Units\n",
    "\n",
    "### Imperial Measurement system:\n",
    "> Imperial measurement is a system of weights and measures with units like \n",
    "> inches, feet, pounds and gallons.\n",
    "> This system is largely replaced but still used for everyday measurements in europe and US, and is generally irregular.\n",
    "\n",
    "\n",
    "    Units:\n",
    "    Length: Inch, foot, yard, mile. \n",
    "    Weight/Mass: Pound, ounce, stone. \n",
    "    Volume: Pint, gallon. \n",
    "\n",
    "### Metric Measurement system:\n",
    "> Metric based system used a decimal base system with consistent prefixes (like Kilo, centi, milli)\n",
    "> for Powers of 10 making conversions simpler\n",
    "\n",
    "    Units: Based on meter (length), kilogram (mass), and second (time). \n",
    "    Conversion: Uses a decimal system where units differ by powers of ten, making conversions straightforward. \n",
    "    \n",
    "    Examples:\n",
    "    Length: Meter, centimeter (1/100 meter), kilometer (1,000 meters). \n",
    "    Mass: Gram, kilogram (1,000 grams). \n",
    "    Volume: Liter, milliliter (1/1,000 liter). \n",
    "\n",
    "\n",
    "\n",
    "\n",
    "\n"
   ]
  },
  {
   "cell_type": "code",
   "execution_count": 3,
   "metadata": {},
   "outputs": [
    {
     "name": "stdout",
     "output_type": "stream",
     "text": [
      "27.565214082533313\n"
     ]
    }
   ],
   "source": [
    "# Helper functions: Pounds to Kilograms and feets snf inches to meters \n",
    "# 1 lb = 0.45359237 kg \n",
    "# 1 ft = 0.3048 meters \n",
    "# 1 inch = 2.54 = 0.0254 meters \n",
    "\n",
    "# the code is able to answer the question: what is the BMI of a person 5'7\" tall and weighing 176 lbs?\n",
    "\n",
    "def lb_to_kg(lb):\n",
    "    return lb * 0.45359237\n",
    "\n",
    "\n",
    "def feet_and_inches_to_meters(ft, inch ):\n",
    "    return ft * 0.3048 + inch * 0.0254\n",
    "\n",
    "def ft_and_inch_to_m(ft, inch = 0.0):\n",
    "    return ft * 0.3048 + inch * 0.0254\n",
    "\n",
    "def bmi(weight, height):\n",
    "    if height < 1.0 or height > 2.5 or weight < 20 or weight > 200:\n",
    "        return None\n",
    " \n",
    "    return weight / height ** 2\n",
    " \n",
    "print(bmi(weight = lb_to_kg(176), height = ft_and_inch_to_m(5, 7)))\n",
    " \n"
   ]
  }
 ],
 "metadata": {
  "kernelspec": {
   "display_name": "Python 3",
   "language": "python",
   "name": "python3"
  },
  "language_info": {
   "codemirror_mode": {
    "name": "ipython",
    "version": 3
   },
   "file_extension": ".py",
   "mimetype": "text/x-python",
   "name": "python",
   "nbconvert_exporter": "python",
   "pygments_lexer": "ipython3",
   "version": "3.12.8"
  }
 },
 "nbformat": 4,
 "nbformat_minor": 2
}
