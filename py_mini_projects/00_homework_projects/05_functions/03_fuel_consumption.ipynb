{
 "cells": [
  {
   "cell_type": "markdown",
   "metadata": {},
   "source": [
    "A car's fuel consumption may be expressed in many different ways. For example, in Europe, it is shown as the amount of fuel consumed per 100 kilometers.\n",
    "\n",
    "In the USA, it is shown as the number of miles traveled by a car using one gallon of fuel.\n",
    "\n",
    "Your task is to write a pair of functions converting l/100km into mpg, and vice versa.\n",
    "\n",
    "The functions:\n",
    "\n",
    "are named liters_100km_to_miles_gallon and miles_gallon_to_liters_100km respectively;\n",
    "take one argument (the value corresponding to their names)\n",
    "Complete the code in the editor and run it to check whether your output is the same as ours.\n",
    "\n",
    "Here is some information to help you:\n",
    "\n",
    "1 American mile = 1609.344 metres;\n",
    "1 American gallon = 3.785411784 litres."
   ]
  },
  {
   "cell_type": "code",
   "execution_count": null,
   "metadata": {},
   "outputs": [],
   "source": []
  }
 ],
 "metadata": {
  "language_info": {
   "name": "python"
  }
 },
 "nbformat": 4,
 "nbformat_minor": 2
}
