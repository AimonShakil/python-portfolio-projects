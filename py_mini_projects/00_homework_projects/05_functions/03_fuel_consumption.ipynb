{
 "cells": [
  {
   "cell_type": "markdown",
   "metadata": {},
   "source": [
    "A car's fuel consumption may be expressed in many different ways. For example;\n",
    "\n",
    "- In Europe, it is shown as the amount of fuel consumed per 100 kilometers. \n",
    "\n",
    "- In the USA, it is shown as the number of miles traveled by a car using one gallon of fuel. Unit: Miles per gallon: mpg\n",
    "\n",
    "Your task is to write a pair of functions converting l/100km into mpg, and vice versa.\n",
    "\n",
    "The functions:\n",
    "\n",
    "are named liters_100km_to_miles_gallon and miles_gallon_to_liters_100km respectively;\n",
    "take one argument (the value corresponding to their names)\n",
    "\n",
    "Here is some information:\n",
    "\n",
    "1 American mile = 1609.344 metres;\n",
    "1 American gallon = 3.785411784 litres."
   ]
  },
  {
   "cell_type": "code",
   "execution_count": 2,
   "metadata": {},
   "outputs": [
    {
     "name": "stdout",
     "output_type": "stream",
     "text": [
      "97.06184061538461\n",
      "50.47215712\n",
      "37.85411784\n",
      "0.0039007393587617467\n",
      "0.007490910297239916\n",
      "0.010009131205673757\n"
     ]
    }
   ],
   "source": [
    "def liters_100km_to_miles_gallon(liters):\n",
    "    return 100 / (liters / 3.785411784)\n",
    "\n",
    "def miles_gallon_to_liters_100km(miles):\n",
    "    return 100 / (miles * 1609.344 / 3.785411784)       \n",
    "    \n",
    "\n",
    "print(liters_100km_to_miles_gallon(3.9))\n",
    "print(liters_100km_to_miles_gallon(7.5))\n",
    "print(liters_100km_to_miles_gallon(10))\n",
    "\n",
    "print(miles_gallon_to_liters_100km(60.3))\n",
    "print(miles_gallon_to_liters_100km(31.4))\n",
    "print(miles_gallon_to_liters_100km(23.5))\n",
    "\n"
   ]
  },
  {
   "cell_type": "code",
   "execution_count": 3,
   "metadata": {},
   "outputs": [
    {
     "name": "stdout",
     "output_type": "stream",
     "text": [
      "[0, 2, 4, 6, 8, 10]\n"
     ]
    }
   ],
   "source": [
    "def even_num_lst(ran):\n",
    "    lst = []\n",
    "    for num in range(ran):\n",
    "        if num % 2 == 0:\n",
    "            lst.append(num)\n",
    "    return lst\n",
    " \n",
    "print(even_num_lst(11))"
   ]
  }
 ],
 "metadata": {
  "kernelspec": {
   "display_name": "Python 3",
   "language": "python",
   "name": "python3"
  },
  "language_info": {
   "codemirror_mode": {
    "name": "ipython",
    "version": 3
   },
   "file_extension": ".py",
   "mimetype": "text/x-python",
   "name": "python",
   "nbconvert_exporter": "python",
   "pygments_lexer": "ipython3",
   "version": "3.12.8"
  }
 },
 "nbformat": 4,
 "nbformat_minor": 2
}
