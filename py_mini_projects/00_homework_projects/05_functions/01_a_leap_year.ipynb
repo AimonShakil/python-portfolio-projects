{
 "cells": [
  {
   "cell_type": "markdown",
   "metadata": {},
   "source": [
    "Task is to write and test a function which takes one argument (a year) and returns True if the year is a leap year, or False otherwise.\n",
    "\n",
    "The seed of the function is already shown in the skeleton code in the editor.\n",
    "\n",
    "Note: we've also prepared a short testing code, which you can use to test your function.\n",
    "\n",
    "The code uses two lists ‒ one with the test data, and the other containing the expected results. The code will tell you if any of your results are invalid."
   ]
  },
  {
   "cell_type": "markdown",
   "metadata": {},
   "source": [
    "This is a clean way to implement the complete leap year logic, which is:\n",
    "- A year is a leap year if it is divisible by 400.\n",
    "- It is also a leap year if it is divisible by 4 but not by 100.\n",
    "- Otherwise, it is a common year."
   ]
  },
  {
   "cell_type": "code",
   "execution_count": 4,
   "metadata": {},
   "outputs": [
    {
     "name": "stdout",
     "output_type": "stream",
     "text": [
      "1900 ->ok\n",
      "2025 ->Failed\n",
      "2026 ->Failed\n",
      "2027 ->ok\n"
     ]
    }
   ],
   "source": [
    "def is_leap_year(year):\n",
    "    if year % 400 == 0:\n",
    "        return True\n",
    "    elif year % 4 == 0 and year % 100 != 0:\n",
    "        return True\n",
    "    else:\n",
    "        return False \n",
    "\n",
    "year_list = [1900, 2025, 2026, 2027]\n",
    "years_results = [False, True, True, False]\n",
    "\n",
    "for i in range(len(year_list)):\n",
    "    yr = year_list[i]\n",
    "    print(yr, \"->\", end= \"\")\n",
    "    result = is_leap_year(yr)\n",
    "    if result == years_results[i]:\n",
    "        print(\"ok\")\n",
    "    else:\n",
    "        print(\"Failed\")"
   ]
  },
  {
   "cell_type": "code",
   "execution_count": 3,
   "metadata": {},
   "outputs": [
    {
     "name": "stdout",
     "output_type": "stream",
     "text": [
      "1900 -> OK\n",
      "2000 -> OK\n",
      "2016 -> OK\n",
      "1987 -> OK\n"
     ]
    }
   ],
   "source": [
    "def is_year_leap(year):\n",
    "    if year % 4 != 0:\n",
    "        return False\n",
    "    elif year % 100 != 0:\n",
    "        return True\n",
    "    elif year % 400 != 0:\n",
    "        return False\n",
    "    else:\n",
    "        return True\n",
    "\n",
    "test_data = [1900, 2000, 2016, 1987]\n",
    "test_results = [False, True, True, False]\n",
    "for i in range(len(test_data)):\n",
    "    yr = test_data[i]\n",
    "    print(yr,\"-> \",end=\"\")\n",
    "    result = is_year_leap(yr)\n",
    "    if result == test_results[i]:\n",
    "        print(\"OK\")\n",
    "    else:\n",
    "        print(\"Failed\")"
   ]
  },
  {
   "cell_type": "markdown",
   "metadata": {},
   "source": [
    "Task is to write and test a function which takes two arguments (a year and a month) and returns the number of days for the given year-month pair (while only February is sensitive to the year value, your function should be universal).\n",
    "\n",
    "The initial part of the function is ready. Now, convince the function to return None if its arguments don't make sense.\n",
    "\n",
    "Of course, you can (and should) use the previously written and tested function (LAB 4.3.1.6). It may be very helpful. We encourage you to use a list filled with the months' lengths. You can create it inside the function ‒ this trick will significantly shorten the code.\n",
    "\n",
    "We've prepared a testing code. Expand it to include more test cases."
   ]
  },
  {
   "cell_type": "code",
   "execution_count": 8,
   "metadata": {},
   "outputs": [
    {
     "name": "stdout",
     "output_type": "stream",
     "text": [
      "1900 2 -> OK\n",
      "2025 2 -> Failed\n",
      "2027 1 -> OK\n",
      "2028 11 -> OK\n"
     ]
    }
   ],
   "source": [
    "def is_year_leap(year):\n",
    "    if year % 4 != 0:\n",
    "        return False\n",
    "    elif year % 100 != 0:\n",
    "        return True\n",
    "    elif year % 400 != 0:\n",
    "        return False\n",
    "    else:\n",
    "        return True\n",
    "\n",
    "def days_in_month(year,month):\n",
    "    if year < 1582 or month < 1 or month > 12:\n",
    "        return None\n",
    "    days = [31, 28, 31, 30, 31, 30, 31, 31, 30, 31, 30, 31] # April, June, September, Novemeber = 30 days , rest except feb = 28, all have 31\n",
    "    res  = days[month - 1]\n",
    "    if month == 2 and is_year_leap(year):\n",
    "        res = 29\n",
    "    return res\n",
    "\n",
    "test_years = [1900, 2025, 2027, 2028]\n",
    "test_months = [ 2, 2, 1, 11]\n",
    "test_results = [28, 29, 31, 30]\n",
    "\n",
    "for i in range(len(test_years)):\n",
    "    yr = test_years[i]\n",
    "    mo = test_months[i]\n",
    "    print(yr,mo,\"-> \",end=\"\")\n",
    "    result = days_in_month(yr, mo)\n",
    "    if result == test_results[i]:\n",
    "        print(\"OK\")\n",
    "    else:\n",
    "        print(\"Failed\")\n"
   ]
  },
  {
   "cell_type": "markdown",
   "metadata": {},
   "source": [
    "Task is to write and test a function which takes three arguments (a year, a month, and a day of the month) and returns the corresponding day of the year, or returns None if any of the arguments is invalid.\n",
    "\n",
    "Use the previously written and tested functions. Add your own test cases to the code."
   ]
  },
  {
   "cell_type": "code",
   "execution_count": null,
   "metadata": {},
   "outputs": [],
   "source": []
  }
 ],
 "metadata": {
  "kernelspec": {
   "display_name": "Python 3",
   "language": "python",
   "name": "python3"
  },
  "language_info": {
   "codemirror_mode": {
    "name": "ipython",
    "version": 3
   },
   "file_extension": ".py",
   "mimetype": "text/x-python",
   "name": "python",
   "nbconvert_exporter": "python",
   "pygments_lexer": "ipython3",
   "version": "3.12.8"
  }
 },
 "nbformat": 4,
 "nbformat_minor": 2
}
