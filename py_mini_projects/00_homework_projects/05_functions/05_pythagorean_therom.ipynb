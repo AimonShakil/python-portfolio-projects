{
 "cells": [
  {
   "cell_type": "code",
   "execution_count": null,
   "metadata": {},
   "outputs": [],
   "source": [
    "def is_triangel(a,b, c):\n",
    "    return a+b > c and a+c > b and b+c > a\n",
    "\n"
   ]
  },
  {
   "cell_type": "code",
   "execution_count": null,
   "metadata": {},
   "outputs": [],
   "source": [
    "def is_a_triangle(a, b, c):\n",
    "    return a + b > c and b + c > a and c + a > b\n",
    "\n",
    "\n",
    "a = float(input('Enter the first side\\'s length: '))\n",
    "b = float(input('Enter the second side\\'s length: '))\n",
    "c = float(input('Enter the third side\\'s length: '))\n",
    "\n",
    "if is_a_triangle(a, b, c):\n",
    "    print('Yes, it can be a triangle.')\n",
    "else:\n",
    "    print('No, it can\\'t be a triangle.')"
   ]
  }
 ],
 "metadata": {
  "language_info": {
   "name": "python"
  }
 },
 "nbformat": 4,
 "nbformat_minor": 2
}
