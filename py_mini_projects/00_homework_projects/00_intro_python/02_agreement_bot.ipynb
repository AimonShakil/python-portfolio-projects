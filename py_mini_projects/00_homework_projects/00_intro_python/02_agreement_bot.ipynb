{
 "cells": [
  {
   "cell_type": "markdown",
   "metadata": {},
   "source": [
    "## Problem Statement\n",
    "\n",
    "Write a program which asks the user what their favorite animal is, and then always responds with \"My favorite animal is also ___!\" (the blank should be filled in with the user-inputted animal, of course).\n",
    "\n",
    "Here's a sample run of the program (user input is in bold italics - note the space between the prompt and the user input!):\n",
    "\n",
    "What's your favorite animal? cow \n",
    "\n",
    "My favorite animal is also cow!"
   ]
  },
  {
   "cell_type": "code",
   "execution_count": 1,
   "metadata": {},
   "outputs": [
    {
     "name": "stdout",
     "output_type": "stream",
     "text": [
      "Question: What is your Favouritte Animal?\n",
      "\n",
      "Answer: Your Favourite Animal is dd\n",
      "\n",
      "My Favourite Animnal is also dd!\n",
      "\n"
     ]
    }
   ],
   "source": [
    "def main():\n",
    "    fav_animal : str = input(\"what is the name of Your Fav Animal: \\n\")\n",
    "    print(\"Question: What is your Favouritte Animal?\\n\")\n",
    "    print(f\"Answer: Your Favourite Animal is {fav_animal}\\n\")\n",
    "    print(f\"My Favourite Animnal is also {fav_animal}!\\n\")\n",
    "\n",
    "main()"
   ]
  }
 ],
 "metadata": {
  "kernelspec": {
   "display_name": "Python 3",
   "language": "python",
   "name": "python3"
  },
  "language_info": {
   "codemirror_mode": {
    "name": "ipython",
    "version": 3
   },
   "file_extension": ".py",
   "mimetype": "text/x-python",
   "name": "python",
   "nbconvert_exporter": "python",
   "pygments_lexer": "ipython3",
   "version": "3.12.8"
  }
 },
 "nbformat": 4,
 "nbformat_minor": 2
}
