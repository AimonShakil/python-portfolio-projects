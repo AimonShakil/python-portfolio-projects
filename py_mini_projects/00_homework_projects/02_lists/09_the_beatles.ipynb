{
 "cells": [
  {
   "cell_type": "markdown",
   "metadata": {},
   "source": [
    "Scenario\n",
    "The Beatles were one of the most popular music groups of the 1960s, and the best-selling band in history. Some people consider them to be the most influential act of the rock era. Indeed, they were included in Time magazine's compilation of the 20th Century's 100 most influential people.\n",
    "\n",
    "The band underwent many line-up changes, culminating in 1962 with the line-up of John Lennon, Paul McCartney, George Harrison, and Richard Starkey (better known as Ringo Starr).\n",
    "\n",
    "\n",
    "Write a program that reflects these changes and lets you practice with the concept of lists. Your task is to:\n",
    "\n",
    "- step 1: create an empty list named beatles;\n",
    "- step 2: use the append() method to add the following members of the band to the list: John Lennon, Paul McCartney, and George Harrison;\n",
    "- step 3: use the for loop and the append() method to prompt the user to add the following members of the band to the list: Stu Sutcliffe, and Pete Best;\n",
    "- step 4: use the del instruction to remove Stu Sutcliffe and Pete Best from the list;\n",
    "- step 5: use the insert() method to add Ringo Starr to the beginning of the list."
   ]
  },
  {
   "cell_type": "code",
   "execution_count": 1,
   "metadata": {},
   "outputs": [
    {
     "name": "stdout",
     "output_type": "stream",
     "text": [
      "Step 1: ['John Lennon', 'Paul McCartney', 'George Harrison']\n",
      "Step 2: ['John Lennon', 'Paul McCartney', 'George Harrison', 'Stu Sutcliff', 'Pete Best']\n",
      "Step 3: ['John Lennon', 'Paul McCartney', 'George Harrison']\n",
      "Step 4: ['Ringo Starr', 'John Lennon', 'Paul McCartney', 'George Harrison']\n",
      "The Fab 4\n"
     ]
    }
   ],
   "source": [
    "# step 1\n",
    "beatles = []\n",
    "\n",
    "\n",
    "# step 2\n",
    "beatles.append(\"John Lennon\")\n",
    "beatles.append(\"Paul McCartney\")\n",
    "beatles.append(\"George Harrison\")\n",
    "print(\"Step 1:\", beatles)\n",
    "\n",
    "\n",
    "# step 3\n",
    "for i in range(1):\n",
    "    beatles.append(\"Stu Sutcliff\")\n",
    "    beatles.append(\"Pete Best\")\n",
    "print(\"Step 2:\", beatles)\n",
    "\n",
    "\n",
    "# step 4\n",
    "del beatles[3]\n",
    "del beatles[3]\n",
    "\n",
    "print(\"Step 3:\", beatles)\n",
    "\n",
    "\n",
    "# step 5\n",
    "beatles.insert(0,\"Ringo Starr\")\n",
    "print(\"Step 4:\", beatles)\n",
    "\n",
    "\n",
    "# testing list length\n",
    "print(\"The Fab\", len(beatles))\n"
   ]
  }
 ],
 "metadata": {
  "kernelspec": {
   "display_name": "Python 3",
   "language": "python",
   "name": "python3"
  },
  "language_info": {
   "codemirror_mode": {
    "name": "ipython",
    "version": 3
   },
   "file_extension": ".py",
   "mimetype": "text/x-python",
   "name": "python",
   "nbconvert_exporter": "python",
   "pygments_lexer": "ipython3",
   "version": "3.12.8"
  }
 },
 "nbformat": 4,
 "nbformat_minor": 2
}
