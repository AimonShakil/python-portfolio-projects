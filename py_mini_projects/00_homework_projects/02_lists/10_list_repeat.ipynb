{
 "cells": [
  {
   "cell_type": "markdown",
   "metadata": {},
   "source": [
    "Scenario\n",
    "\n",
    "Imagine just a simple list containing some integer numbers. Some of these numbers may be repeated, and this is the clue. We don't want any repetitions. We want them to be removed.\n",
    "\n",
    "Your task is to write a program which removes all the number repetitions from the list. The goal is to have a list in which all the numbers appear not more than once."
   ]
  },
  {
   "cell_type": "code",
   "execution_count": 3,
   "metadata": {},
   "outputs": [
    {
     "name": "stdout",
     "output_type": "stream",
     "text": [
      "The list with unique elements only: \n",
      "[1, 2, 3, 4, 5, 9, 7, 6]\n"
     ]
    }
   ],
   "source": [
    "my_list = [1, 2, 3, 3, 4, 4, 5, 9, 7, 7, 2, 6, 5]\n",
    "new_list = []\n",
    "\n",
    "for num in my_list:\n",
    "    if num not in new_list:\n",
    "        new_list.append(num)\n",
    "my_list = new_list\n",
    "\n",
    "print(\"The list with unique elements only: \")\n",
    "print(my_list)"
   ]
  }
 ],
 "metadata": {
  "kernelspec": {
   "display_name": "Python 3",
   "language": "python",
   "name": "python3"
  },
  "language_info": {
   "codemirror_mode": {
    "name": "ipython",
    "version": 3
   },
   "file_extension": ".py",
   "mimetype": "text/x-python",
   "name": "python",
   "nbconvert_exporter": "python",
   "pygments_lexer": "ipython3",
   "version": "3.12.8"
  }
 },
 "nbformat": 4,
 "nbformat_minor": 2
}
