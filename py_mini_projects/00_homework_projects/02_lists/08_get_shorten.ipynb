{
 "cells": [
  {
   "cell_type": "markdown",
   "metadata": {},
   "source": [
    "## Problem Statement\n",
    "\n",
    "---\n",
    "\n",
    "Fill out the function shorten(lst) which removes elements from the end of lst, which is a list, and prints each item it removes until lst is MAX_LENGTH items long. If lst is already shorter than MAX_LENGTH you should leave it unchanged. We've written a main() function for you which gets a list and passes it into your function once you run the program. For the autograder to pass you will need MAX_LENGTH to be 3, but feel free to change it around to test your program."
   ]
  },
  {
   "cell_type": "code",
   "execution_count": 5,
   "metadata": {},
   "outputs": [
    {
     "name": "stdout",
     "output_type": "stream",
     "text": [
      "['33', '55', '66', '77', '44', '33']\n",
      "33\n",
      "['33', '55', '66', '77', '44']\n",
      "44\n",
      "['33', '55', '66', '77']\n",
      "77\n"
     ]
    }
   ],
   "source": [
    "MAX_LENGTH: int = 3\n",
    "\n",
    "def shorten(lst):\n",
    "    \"\"\"\n",
    "    This function removes elements from the end of the lst\n",
    "    \"\"\"\n",
    "    while len(lst) > MAX_LENGTH:\n",
    "        print(lst)\n",
    "        last_elem = lst.pop()\n",
    "        print(last_elem)\n",
    "\n",
    "def get_lst():\n",
    "    \"\"\"\n",
    "    prompts the user to enter one element of the list at a time and returns the resulting list\n",
    "    \"\"\"\n",
    "    lst = []\n",
    "    elem = input(\"Please enter an element of the list op press enter to stop\")\n",
    "    while elem != \"\":\n",
    "        lst.append(elem)\n",
    "        elem = input(\"Please enter an element of the list or press enter to stop\")\n",
    "    return lst\n",
    "\n",
    "def main():\n",
    "    lst = get_lst()\n",
    "    shorten(lst)\n",
    "if __name__ == '__main__':\n",
    "    main()\n",
    "\n"
   ]
  }
 ],
 "metadata": {
  "kernelspec": {
   "display_name": "Python 3",
   "language": "python",
   "name": "python3"
  },
  "language_info": {
   "codemirror_mode": {
    "name": "ipython",
    "version": 3
   },
   "file_extension": ".py",
   "mimetype": "text/x-python",
   "name": "python",
   "nbconvert_exporter": "python",
   "pygments_lexer": "ipython3",
   "version": "3.12.8"
  }
 },
 "nbformat": 4,
 "nbformat_minor": 2
}
