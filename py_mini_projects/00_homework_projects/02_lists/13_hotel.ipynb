{
 "cells": [
  {
   "cell_type": "markdown",
   "metadata": {},
   "source": [
    "Hotel:\n",
    "Python does not limit the depth of list-in-list inclusion. Here you can see an example of a three-dimensional array.\n",
    "\n",
    "Imagine a hotel. It's a huge hotel consisting of three buildings, 15 floors each. There are 20 rooms on each floor. For this, you need an array which can collect and process information on the occupied/free rooms.\n",
    "\n",
    "First step ‒ the type of the array's elements. In this case, a Boolean value (True/False) would fit.\n",
    "\n",
    "Step two ‒ calm analysis of the situation. Summarize the available information: three buildings, 15 floors, 20 rooms.\n",
    "\n",
    "Now you can create the array:\n",
    "The first index (0 through 2) selects one of the buildings; the second (0 through 14) selects the floor, the third (0 through 19) selects the room number. All rooms are initially free.\n",
    "\n",
    "Now you can book a room for two newlyweds: in the second building, on the tenth floor, room 14:\n",
    "\n"
   ]
  },
  {
   "cell_type": "code",
   "execution_count": 2,
   "metadata": {},
   "outputs": [
    {
     "name": "stdout",
     "output_type": "stream",
     "text": [
      "20\n"
     ]
    }
   ],
   "source": [
    "rooms = [[[False for r in range(20)] for f in range(15)] for t in range (3)]\n",
    "#rooms = [1][14][13] = True  # book room\n",
    "# rooms[0][4][1] = False # release a room\n",
    "\n",
    "# Check if there are any vacancies on the 15th floor of the third building:\n",
    "# The vacancy variable contains 0 if all the rooms are occupied, or the number of available rooms otherwise.\n",
    "\n",
    "\n",
    "vacancy = 0\n",
    "for room_num in range(20):\n",
    "    if not rooms[2][14][room_num]:\n",
    "        vacancy += 1\n",
    "print(vacancy)"
   ]
  }
 ],
 "metadata": {
  "kernelspec": {
   "display_name": "Python 3",
   "language": "python",
   "name": "python3"
  },
  "language_info": {
   "codemirror_mode": {
    "name": "ipython",
    "version": 3
   },
   "file_extension": ".py",
   "mimetype": "text/x-python",
   "name": "python",
   "nbconvert_exporter": "python",
   "pygments_lexer": "ipython3",
   "version": "3.12.8"
  }
 },
 "nbformat": 4,
 "nbformat_minor": 2
}
