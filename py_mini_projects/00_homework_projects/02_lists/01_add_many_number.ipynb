{
 "cells": [
  {
   "cell_type": "markdown",
   "metadata": {},
   "source": [
    "# Problem Statement\n",
    "\n",
    "Write a function that takes a list of numbers and returns the sum of those numbers."
   ]
  },
  {
   "cell_type": "code",
   "execution_count": 3,
   "metadata": {},
   "outputs": [
    {
     "name": "stdout",
     "output_type": "stream",
     "text": [
      "15\n"
     ]
    }
   ],
   "source": [
    "def add_many_numbers(numbers: list) -> int:\n",
    "\n",
    "    \"\"\" Takes a list of numbers and returns the sum of those numbers \"\"\"\n",
    "\n",
    "    total_so_far: int = 0\n",
    "    for number in numbers:\n",
    "        total_so_far += number\n",
    "    return total_so_far\n",
    "\n",
    "def main():\n",
    "    numbers: list[int] = [1, 2, 3, 4, 5] # Make a list of numbers\n",
    "    sum_of_numbers: int = add_many_numbers(numbers)\n",
    "    print(sum_of_numbers)\n",
    "if __name__ == '__main__':\n",
    "    main()\n"
   ]
  }
 ],
 "metadata": {
  "kernelspec": {
   "display_name": "Python 3",
   "language": "python",
   "name": "python3"
  },
  "language_info": {
   "codemirror_mode": {
    "name": "ipython",
    "version": 3
   },
   "file_extension": ".py",
   "mimetype": "text/x-python",
   "name": "python",
   "nbconvert_exporter": "python",
   "pygments_lexer": "ipython3",
   "version": "3.12.8"
  }
 },
 "nbformat": 4,
 "nbformat_minor": 2
}
