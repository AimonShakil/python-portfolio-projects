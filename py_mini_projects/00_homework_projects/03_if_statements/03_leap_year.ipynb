{
 "cells": [
  {
   "cell_type": "markdown",
   "metadata": {},
   "source": [
    "## Problem Statement\n",
    "\n",
    "---\n",
    "\n",
    "Write a program that reads a year from the user and tells whether a given year is a leap year or not.\n",
    "\n",
    "A leap year (also known as an intercalary year or bissextile year) is a calendar year that contains an additional day (or, in the case of a lunisolar calendar, a month) added to keep the calendar year synchronized with the astronomical year or seasonal year. In the Gregorian calendar, each leap year has 366 days instead of 365, by extending February to 29 days rather than the common 28.\n",
    "\n",
    "In the Gregorian calendar, three criteria must be checked to identify leap years:\n",
    "\n",
    "The given year must be evenly divisible by 4;\n",
    "If the year can also be evenly divided by 100, it is NOT a leap year; unless:\n",
    "The year is also evenly divisible by 400. Then it is a leap year.\n",
    "Your code should use the above criteria to check for a leap year and then print either \"That's a leap year!\" or \"That's not a leap year.\""
   ]
  },
  {
   "cell_type": "code",
   "execution_count": 3,
   "metadata": {},
   "outputs": [
    {
     "name": "stdout",
     "output_type": "stream",
     "text": [
      " Thats not a leap year!!\n"
     ]
    }
   ],
   "source": [
    "def main():\n",
    "    year: int= int(input(\"Please enter the year to check Wether its Leap year or not? \"))\n",
    "    if year % 4 == 0: # checking wheather the provided year is evenly divisible by 4\n",
    "        if year % 100 == 0: # checking wheather the provided year is evenly distributed by 100\n",
    "            if year % 400 == 0: # checking wheather the provided year is distributed by 400\n",
    "                print(\"Thats a Leap Year\")\n",
    "            else:\n",
    "                print(\"Thats not a leap year\")\n",
    "        else:\n",
    "            print(\"Thats a leap year\")\n",
    "    else:\n",
    "        print(\" Thats not a leap year!!\")\n",
    "\n",
    "if __name__ == '__main__':\n",
    "    main()"
   ]
  },
  {
   "cell_type": "code",
   "execution_count": null,
   "metadata": {},
   "outputs": [],
   "source": [
    "year = int(input(\"Enter a year: \"))\n",
    "\n",
    "if year < 1582:\n",
    "\tprint(\"Not within the Gregorian calendar period\")\n",
    "else:\n",
    "\tif year % 4 != 0:\n",
    "\t\tprint(\"Common year\")\n",
    "\telif year % 100 != 0:\n",
    "\t\tprint(\"Leap year\")\n",
    "\telif year % 400 != 0:\n",
    "\t\tprint(\"Common year\")\n",
    "\telse:\n",
    "\t\tprint(\"Leap year\")"
   ]
  },
  {
   "cell_type": "code",
   "execution_count": null,
   "metadata": {},
   "outputs": [],
   "source": [
    "year = int(input('Enter a year: '))\n",
    "if year < 1582:\n",
    "    print(\"Not within Gregorian Calandar Period\")\n",
    "else:\n",
    "    if year % 4 != 0:  # by divisible means no remainder left\n",
    "        print(\"Common Year\")\n",
    "    elif year % 100 != 0:\n",
    "        print(\"Leap Year\")\n",
    "    elif year % 400 != 0:\n",
    "        print(\"Common year\")\n",
    "    else:\n",
    "        print(\"Leapp year\")"
   ]
  }
 ],
 "metadata": {
  "kernelspec": {
   "display_name": "Python 3",
   "language": "python",
   "name": "python3"
  },
  "language_info": {
   "codemirror_mode": {
    "name": "ipython",
    "version": 3
   },
   "file_extension": ".py",
   "mimetype": "text/x-python",
   "name": "python",
   "nbconvert_exporter": "python",
   "pygments_lexer": "ipython3",
   "version": "3.12.8"
  }
 },
 "nbformat": 4,
 "nbformat_minor": 2
}
