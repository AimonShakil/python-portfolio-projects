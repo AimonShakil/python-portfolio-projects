{
 "cells": [
  {
   "cell_type": "markdown",
   "metadata": {},
   "source": [
    "Problem Statement\n",
    "\n",
    "--- \n",
    "\n",
    "Write a program that prints the first 20 even numbers. There are several correct approaches, but they all use a loop of some sort. Do no write twenty print statements\n",
    "\n",
    "The first even number is 0:\n",
    "\n",
    "0 2 4 6 8 10 12 14 16 18 20 22 24 26 28 30 32 34 36 38"
   ]
  }
 ],
 "metadata": {
  "language_info": {
   "name": "python"
  }
 },
 "nbformat": 4,
 "nbformat_minor": 2
}
