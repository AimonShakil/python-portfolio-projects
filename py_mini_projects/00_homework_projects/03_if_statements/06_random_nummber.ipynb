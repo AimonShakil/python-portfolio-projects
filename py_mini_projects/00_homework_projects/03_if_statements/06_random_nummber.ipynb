{
 "cells": [
  {
   "cell_type": "markdown",
   "metadata": {},
   "source": [
    "## Problem Statement\n",
    "\n",
    "--- \n",
    "\n",
    "\n",
    "Print 10 random numbers in the range 1 to 100.\n",
    "\n",
    "Here is an example run:\n",
    "\n",
    "45 79 61 47 52 10 16 83 19 12\n",
    "\n",
    "Each time you run your program you should get different numbers\n",
    "\n",
    "81 76 70 1 27 63 96 100 32 92\n",
    "\n",
    "Recall that the python random library has a function randint which returns an integer in the range set by the parameters (inclusive). For example this call would produce a random integer between 1 and 6, which could include 1 and could include 6:\n",
    "\n",
    "value = random.randint(1, 6)"
   ]
  },
  {
   "cell_type": "code",
   "execution_count": null,
   "metadata": {},
   "outputs": [],
   "source": [
    "from random import randint\n",
    "\n",
    "def main():\n",
    "    for i in range(1, 101):\n",
    "        \n",
    "        print(i)\n",
    "\n",
    "\n",
    "if __name__ == '__main__':\n",
    "    main()"
   ]
  }
 ],
 "metadata": {
  "language_info": {
   "name": "python"
  }
 },
 "nbformat": 4,
 "nbformat_minor": 2
}
