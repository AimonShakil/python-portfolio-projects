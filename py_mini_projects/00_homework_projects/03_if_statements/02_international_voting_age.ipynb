{
 "cells": [
  {
   "cell_type": "markdown",
   "metadata": {},
   "source": [
    "## Problem Statement\n",
    "\n",
    "--- \n",
    "\n",
    "Write a program which asks a user for their age and lets them know if they can or can't vote in the following three fictional countries.\n",
    "\n",
    "Around the world, different countries have different voting ages. In the fictional countries of Peturksbouipo, Stanlau, and Mayengua, the voting ages are very different:\n",
    "\n",
    "the voting age in Peturksbouipo is 16 (in real life, this is the voting age in, for example, Scotland, Ethiopia, and Austria)\n",
    "\n",
    "the voting age in Stanlau is 25 (in real life this is the voting age in the United Arab Emirates)\n",
    "\n",
    "the voting age in Mayengua is 48 (in real life, as far as we can tell, this isn't the voting age anywhere)\n",
    "\n",
    "Your code should prompt the for their age and print whether or not they can vote in Peturksbouipo, Stanlau, or Mayengua.\n",
    "\n",
    "Here's a sample run of the program (user input is in blue):\n",
    "\n",
    "How old are you? 20 You can vote in Peturksbouipo where the voting age is 16. You cannot vote in Stanlau where the voting age is 25. You cannot vote in Mayengua where the voting age is 48."
   ]
  },
  {
   "cell_type": "code",
   "execution_count": 5,
   "metadata": {},
   "outputs": [
    {
     "name": "stdout",
     "output_type": "stream",
     "text": [
      "You can vote in Peturksbouip where  voting age is 16.\n",
      "You cannot vote in stanlau where voting age is 25\n",
      "You cannot vote in stanlau where voting age is 48\n"
     ]
    }
   ],
   "source": [
    "peturksbouipo_age: int = 16\n",
    "stanlau_age: int = 25\n",
    "mayengua_age: int = 48\n",
    "\n",
    "def main():\n",
    "    user_age : int = int(input(\"Please enter your age: \"))\n",
    "    if user_age >= peturksbouipo_age:\n",
    "        print(\"You can vote in Peturksbouip where  voting age is \" + str(peturksbouipo_age) + \".\")\n",
    "    else:\n",
    "        print(\"You cannot vote in petursbouuipo where voting age is \" + str(peturksbouipo_age))\n",
    "    if user_age >= stanlau_age:\n",
    "        print(\"You can vote in Stanlau where  voting age is \" + str(stanlau_age) + \".\")\n",
    "    else:\n",
    "        print(\"You cannot vote in stanlau where voting age is \" + str(stanlau_age))\n",
    "    if user_age >= mayengua_age:\n",
    "        print(\"You can vote in Stanlau where  voting age is \" + str(mayengua_age) + \".\")\n",
    "    else:\n",
    "        print(\"You cannot vote in stanlau where voting age is \" + str(mayengua_age))\n",
    "\n",
    "if __name__ == '__main__':\n",
    "    main()\n",
    "\n",
    "\n",
    "\n"
   ]
  }
 ],
 "metadata": {
  "kernelspec": {
   "display_name": "Python 3",
   "language": "python",
   "name": "python3"
  },
  "language_info": {
   "codemirror_mode": {
    "name": "ipython",
    "version": 3
   },
   "file_extension": ".py",
   "mimetype": "text/x-python",
   "name": "python",
   "nbconvert_exporter": "python",
   "pygments_lexer": "ipython3",
   "version": "3.12.8"
  }
 },
 "nbformat": 4,
 "nbformat_minor": 2
}
