{
 "cells": [
  {
   "cell_type": "markdown",
   "metadata": {},
   "source": [
    "## Scenario\n",
    "Once upon a time there was a land – a land of milk and honey, inhabited by happy and prosperous people. The people paid taxes, of course – their happiness had limits. The most important tax, called the Personal Income Tax (PIT for short) had to be paid once a year, and was evaluated using the following rule:\n",
    "\n",
    "if the citizen's income was not higher than 85,528 thalers, the tax was equal to 18% of the income minus 556 thalers and 2 cents (this was what they called tax relief)\n",
    "if the income was higher than this amount, the tax was equal to 14,839 thalers and 2 cents, plus 32% of the surplus over 85,528 thalers.\n",
    "Your task is to write a tax calculator.\n",
    "\n",
    "It should accept one floating-point value: the income.\n",
    "Next, it should print the calculated tax, rounded to full thalers. There's a function named round() which will do the rounding for you – you'll find it in the skeleton code in the editor.\n",
    "Note: this happy country never returned any money to its citizens. If the calculated tax was less than zero, it would only mean no tax at all (the tax was equal to zero). Take this into consideration during your calculations.\n",
    "\n",
    "Look at the code in the editor – it only reads one input value and outputs a result, so you need to complete it with some smart calculations."
   ]
  },
  {
   "cell_type": "code",
   "execution_count": 1,
   "metadata": {},
   "outputs": [
    {
     "name": "stdout",
     "output_type": "stream",
     "text": [
      "The tax is: 19101.0 thalers\n"
     ]
    }
   ],
   "source": [
    "income = float(input(\"Enter the annual income: \"))\n",
    "\n",
    "if income < 85528:\n",
    "\ttax = income * 0.18 - 556.02\n",
    "else:\n",
    "\ttax = (income - 85528) * 0.32 + 14839.02\n",
    "\n",
    "if tax < 0.0:\n",
    "\ttax = 0.0\n",
    "\n",
    "tax = round(tax, 0)\n",
    "print(\"The tax is:\", tax, \"thalers\")\n",
    " "
   ]
  },
  {
   "cell_type": "markdown",
   "metadata": {},
   "source": [
    "### Simple Tax Calculator based on income:"
   ]
  },
  {
   "cell_type": "code",
   "execution_count": 4,
   "metadata": {},
   "outputs": [
    {
     "name": "stdout",
     "output_type": "stream",
     "text": [
      "you fall into the 10% tax bracket.\n",
      "Your Tax amount is $ 2000.00\n"
     ]
    }
   ],
   "source": [
    "income = float(input('Enter your annual income: '))\n",
    "\n",
    "# First tax bracket: for incomes below $50,000\n",
    "if income <= 50000:\n",
    "    tax_rate = 0.10 # 10% \n",
    "    tax_amount = income * tax_rate\n",
    "    print(\"you fall into the 10% tax bracket.\")\n",
    "    print(f\"Your Tax amount is ${tax_amount: .2f}\")\n",
    "\n",
    "elif income >= 50000:\n",
    "    tax_rate = 0.20  # 20% tax rate\n",
    "    tax_amount = income * tax_rate\n",
    "    print(f\"You fall into the 20% tax bracket.\")\n",
    "    print(f\"Your tax amount is: ${tax_amount:.2f}\")\n",
    "\n",
    "else:\n",
    "    print(\"Invalid amount entered\")"
   ]
  }
 ],
 "metadata": {
  "kernelspec": {
   "display_name": "Python 3",
   "language": "python",
   "name": "python3"
  },
  "language_info": {
   "codemirror_mode": {
    "name": "ipython",
    "version": 3
   },
   "file_extension": ".py",
   "mimetype": "text/x-python",
   "name": "python",
   "nbconvert_exporter": "python",
   "pygments_lexer": "ipython3",
   "version": "3.12.8"
  }
 },
 "nbformat": 4,
 "nbformat_minor": 2
}
