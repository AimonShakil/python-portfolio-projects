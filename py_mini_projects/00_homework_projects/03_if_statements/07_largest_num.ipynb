{
 "cells": [
  {
   "cell_type": "markdown",
   "metadata": {},
   "source": [
    "### Lets assume that the first value is the largest. Then we verify this hypothesis with the two remaining values."
   ]
  },
  {
   "cell_type": "code",
   "execution_count": 1,
   "metadata": {},
   "outputs": [
    {
     "name": "stdout",
     "output_type": "stream",
     "text": [
      "The Largest Number is:  150\n"
     ]
    }
   ],
   "source": [
    "num_1 = int(input(\"Enter the 1st Number: \"))\n",
    "num_2 = int(input(\"Enter the 2nd Number: \"))\n",
    "num_3 = int(input(\"Enter the 3rd Number: \"))\n",
    "\n",
    "largest_number = num_1\n",
    "\n",
    "if num_2 > largest_number:\n",
    "    largest_number = num_2\n",
    "if num_3 > largest_number:\n",
    "    largest_number = num_3\n",
    "\n",
    "print(\"The Largest Number is: \", largest_number)"
   ]
  },
  {
   "cell_type": "code",
   "execution_count": null,
   "metadata": {},
   "outputs": [
    {
     "name": "stdout",
     "output_type": "stream",
     "text": [
      "The Largest Number is:  7800\n"
     ]
    }
   ],
   "source": [
    "# with buildin max function max() and min Function min()\n",
    "\n",
    "nums_1 = int(input(\"Enter the 1st Number: \"))\n",
    "nums_2 = int(input(\"Enter the 2nd Number: \"))\n",
    "nums_3 = int(input(\"Enter the 3rd Number: \"))\n",
    "\n",
    "largest_num = max(nums_1, nums_2, nums_3)\n",
    "\n",
    "\n",
    "print(\"The Largest Number is: \", largest_num)\n"
   ]
  }
 ],
 "metadata": {
  "kernelspec": {
   "display_name": "Python 3",
   "language": "python",
   "name": "python3"
  },
  "language_info": {
   "codemirror_mode": {
    "name": "ipython",
    "version": 3
   },
   "file_extension": ".py",
   "mimetype": "text/x-python",
   "name": "python",
   "nbconvert_exporter": "python",
   "pygments_lexer": "ipython3",
   "version": "3.12.8"
  }
 },
 "nbformat": 4,
 "nbformat_minor": 2
}
