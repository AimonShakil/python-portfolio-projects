{
 "cells": [
  {
   "cell_type": "markdown",
   "metadata": {},
   "source": [
    "## Problem: Planetary Weight Calculator\n",
    "\n",
    "Milestone #1: Mars Weight\n",
    "\n",
    "--- \n",
    "\n",
    "A few years ago, NASA made history with the first controlled flight on another planet. Its latest Mars Rover, Perseverance, has onboard a 50cm high helicopter called Ingenuity. Ingenuity made its third flight, during which it flew faster and further than it had on any of its test flights on Earth. Interestingly, Ingenuity uses Python for some of its flight modeling software!\n",
    "\n",
    "Ingenuity on the surface of Mars (source: NASA)\n",
    "\n",
    "When programming Ingenuity, one of the things that NASA engineers need to account for is the fact that due to the weaker gravity on Mars, an Earthling's weight on Mars is 37.8% of their weight on Earth. Write a Python program that prompts an Earthling to enter their weight on Earth and prints their calculated weight on Mars.\n",
    "\n",
    "The output should be rounded to two decimal places when necessary. Python has a round function which can help you with this. You pass in the value to be rounded and the number of decimal places to use. In the example below, the number 3.1415926 is rounded to 2 decimal places which is 3.14.      \n",
    "\n",
    "Milestone #2: Adding in All Planets\n",
    "Mars is not the only planet in our solar system with its own unique gravity. In fact, each planet has a different gravitational constant, which affects how much an object would weigh on that planet. Below is a list of the constants for each planet compared to Earth's gravity:\n",
    "\n",
    "Mercury: 37.6%\n",
    "\n",
    "Venus: 88.9%\n",
    "\n",
    "Mars: 37.8%\n",
    "\n",
    "Jupiter: 236.0%\n",
    "\n",
    "Saturn: 108.1%\n",
    "\n",
    "Uranus: 81.5%\n",
    "\n",
    "Neptune: 114.0%\n",
    "\n",
    "Write a Python program that prompts an Earthling to enter their weight on Earth and then to enter the name of a planet in our solar system. The program should print the equivalent weight on that planet rounded to 2 decimal places if necessary.\n",
    "\n",
    "You can assume that the user will always type in a planet with the first letter capitalized and you do not need to worry about the case where they type in something other than one of the above planets."
   ]
  },
  {
   "cell_type": "code",
   "execution_count": 3,
   "metadata": {},
   "outputs": [
    {
     "name": "stdout",
     "output_type": "stream",
     "text": [
      "Your weight on Mars would be 2.27\n"
     ]
    }
   ],
   "source": [
    "# Milestone #2: Planetary Weight Calculator (All Planets)\n",
    "\n",
    "# Dictionary mapping planet names to their gravity as a percentage of Earth's\n",
    "planet_gravity = {\n",
    "    \"Mercury\": 0.376,\n",
    "    \"Venus\": 0.889,\n",
    "    \"Mars\": 0.378,\n",
    "    \"Jupiter\": 2.360,\n",
    "    \"Saturn\": 1.081,\n",
    "    \"Uranus\": 0.815,\n",
    "    \"Neptune\": 1.140\n",
    "}\n",
    "\n",
    "# Get the user's weight on Earth\n",
    "earth_weight = float(input(\"Enter your weight on Earth (in pounds or kg): \"))\n",
    "\n",
    "# Get the planet name\n",
    "planet = input(\"Enter a planet name: \")\n",
    "\n",
    "# Calculate weight on the chosen planet\n",
    "weight_on_planet = earth_weight * planet_gravity[planet]\n",
    "\n",
    "# Round to 2 decimal places and display the result\n",
    "print(f\"Your weight on {planet} would be {round(weight_on_planet, 2)}\")"
   ]
  }
 ],
 "metadata": {
  "kernelspec": {
   "display_name": "Python 3",
   "language": "python",
   "name": "python3"
  },
  "language_info": {
   "codemirror_mode": {
    "name": "ipython",
    "version": 3
   },
   "file_extension": ".py",
   "mimetype": "text/x-python",
   "name": "python",
   "nbconvert_exporter": "python",
   "pygments_lexer": "ipython3",
   "version": "3.12.8"
  }
 },
 "nbformat": 4,
 "nbformat_minor": 2
}
