{
 "cells": [
  {
   "cell_type": "code",
   "execution_count": null,
   "metadata": {
    "vscode": {
     "languageId": "plaintext"
    }
   },
   "outputs": [],
   "source": [
    "```\n",
    "Program: Add Two Numbers\n",
    "------------------------\n",
    "Another python program to get some practice with\n",
    "variables.  This program asks the user for two\n",
    "integers and prints their sum.\n",
    "```\n",
    "\n",
    "def main():\n",
    "    print(\"This Program adds Two numbers\")\n",
    "    num1 : int = int(input(\"Enter First number: \"))\n",
    "    num2 : int = int(input(\"Enter Second number: \"))\n",
    "    total: int = num1 + num2\n",
    "    print(f\"The Total is {total}\")\n",
    "\n",
    "main()\n",
    "    "
   ]
  }
 ],
 "metadata": {
  "language_info": {
   "name": "python"
  }
 },
 "nbformat": 4,
 "nbformat_minor": 2
}
