{
 "cells": [
  {
   "cell_type": "markdown",
   "metadata": {},
   "source": [
    "## Problem Statement\n",
    "\n",
    "Write a Python program that takes two integer inputs from the user and calculates their sum. The program should perform the following tasks:\n",
    "\n",
    "1. Prompt the user to enter the first number.\n",
    "\n",
    "2. Read the input and convert it to an integer.\n",
    "\n",
    "3. Prompt the user to enter the second number.\n",
    "\n",
    "4. Read the input and convert it to an integer.\n",
    "\n",
    "5. Calculate the sum of the two numbers.\n",
    "\n",
    "6. Print the total sum with an appropriate message.\n",
    "\n",
    "The provided solution demonstrates a working implementation of this problem, where the main() function guides the user through the process of entering two numbers and displays their sum.\n"
   ]
  },
  {
   "cell_type": "code",
   "execution_count": 2,
   "metadata": {},
   "outputs": [
    {
     "name": "stdout",
     "output_type": "stream",
     "text": [
      "This Program adds Two numbers\n",
      "The Total is 38932\n"
     ]
    }
   ],
   "source": [
    "\"\"\"\n",
    "Program: Add Two Numbers\n",
    "------------------------\n",
    "Another python program to get some practice with\n",
    "variables.  This program asks the user for two\n",
    "integers and prints their sum.\n",
    "\"\"\"\n",
    "\n",
    "def main():\n",
    "    print(\"This Program adds Two numbers\")\n",
    "    num1 : int = int(input(\"Enter First number: \"))\n",
    "    num2 : int = int(input(\"Enter Second number: \"))\n",
    "    total: int = num1 + num2\n",
    "    print(f\"The Total is {total}\")\n",
    "\n",
    "main()"
   ]
  }
 ],
 "metadata": {
  "kernelspec": {
   "display_name": "Python 3",
   "language": "python",
   "name": "python3"
  },
  "language_info": {
   "codemirror_mode": {
    "name": "ipython",
    "version": 3
   },
   "file_extension": ".py",
   "mimetype": "text/x-python",
   "name": "python",
   "nbconvert_exporter": "python",
   "pygments_lexer": "ipython3",
   "version": "3.12.8"
  }
 },
 "nbformat": 4,
 "nbformat_minor": 2
}
